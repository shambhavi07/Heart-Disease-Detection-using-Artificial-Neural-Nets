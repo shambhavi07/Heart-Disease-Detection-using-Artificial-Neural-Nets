{
 "cells": [
  {
   "cell_type": "markdown",
   "id": "3266026c-c4fc-43c6-9030-d4c45a496b3d",
   "metadata": {},
   "source": [
    "# Initial setup"
   ]
  },
  {
   "cell_type": "code",
   "execution_count": 1,
   "id": "9eadf457-deb1-4772-b055-5178375791e1",
   "metadata": {},
   "outputs": [
    {
     "name": "stdout",
     "output_type": "stream",
     "text": [
      "Thu Dec 19 19:09:42 2024       \n",
      "+---------------------------------------------------------------------------------------+\n",
      "| NVIDIA-SMI 535.216.03             Driver Version: 535.216.03   CUDA Version: 12.2     |\n",
      "|-----------------------------------------+----------------------+----------------------+\n",
      "| GPU  Name                 Persistence-M | Bus-Id        Disp.A | Volatile Uncorr. ECC |\n",
      "| Fan  Temp   Perf          Pwr:Usage/Cap |         Memory-Usage | GPU-Util  Compute M. |\n",
      "|                                         |                      |               MIG M. |\n",
      "|=========================================+======================+======================|\n",
      "|   0  NVIDIA A100 80GB PCIe          On  | 00000000:03:00.0 Off |                    0 |\n",
      "| N/A   39C    P0              65W / 300W |  77032MiB / 81920MiB |      1%      Default |\n",
      "|                                         |                      |             Disabled |\n",
      "+-----------------------------------------+----------------------+----------------------+\n",
      "                                                                                         \n",
      "+---------------------------------------------------------------------------------------+\n",
      "| Processes:                                                                            |\n",
      "|  GPU   GI   CI        PID   Type   Process name                            GPU Memory |\n",
      "|        ID   ID                                                             Usage      |\n",
      "|=======================================================================================|\n",
      "|    0   N/A  N/A   2668712      C   python                                    77020MiB |\n",
      "+---------------------------------------------------------------------------------------+\n"
     ]
    }
   ],
   "source": [
    "!nvidia-smi"
   ]
  },
  {
   "cell_type": "code",
   "execution_count": 2,
   "id": "c63294ef-c250-41d5-81b0-29748ba36cfe",
   "metadata": {},
   "outputs": [
    {
     "name": "stdout",
     "output_type": "stream",
     "text": [
      "/home/sdanayak/CS581\n"
     ]
    }
   ],
   "source": [
    "!pwd"
   ]
  },
  {
   "cell_type": "code",
   "execution_count": 3,
   "id": "7841da88-8b18-4a40-8921-8e79aa2f39f3",
   "metadata": {},
   "outputs": [
    {
     "name": "stdout",
     "output_type": "stream",
     "text": [
      "3.7.16 (default, Jan 17 2023, 22:20:44) \n",
      "[GCC 11.2.0]\n"
     ]
    }
   ],
   "source": [
    "import sys\n",
    "print(sys.version)\n"
   ]
  },
  {
   "cell_type": "code",
   "execution_count": 4,
   "id": "cf74eb16-4135-42fb-abcb-38b87766c746",
   "metadata": {},
   "outputs": [
    {
     "name": "stdout",
     "output_type": "stream",
     "text": [
      "Requirement already satisfied: tensorflow-gpu==2.8.0 in /home/sdanayak/.conda/envs/py37_env/lib/python3.7/site-packages (2.8.0)\n",
      "Requirement already satisfied: google-pasta>=0.1.1 in /home/sdanayak/.conda/envs/py37_env/lib/python3.7/site-packages (from tensorflow-gpu==2.8.0) (0.2.0)\n",
      "Requirement already satisfied: protobuf>=3.9.2 in /home/sdanayak/.conda/envs/py37_env/lib/python3.7/site-packages (from tensorflow-gpu==2.8.0) (3.19.6)\n",
      "Requirement already satisfied: grpcio<2.0,>=1.24.3 in /home/sdanayak/.conda/envs/py37_env/lib/python3.7/site-packages (from tensorflow-gpu==2.8.0) (1.62.3)\n",
      "Requirement already satisfied: wrapt>=1.11.0 in /home/sdanayak/.conda/envs/py37_env/lib/python3.7/site-packages (from tensorflow-gpu==2.8.0) (1.16.0)\n",
      "Requirement already satisfied: setuptools in /home/sdanayak/.conda/envs/py37_env/lib/python3.7/site-packages (from tensorflow-gpu==2.8.0) (65.6.3)\n",
      "Requirement already satisfied: keras<2.9,>=2.8.0rc0 in /home/sdanayak/.conda/envs/py37_env/lib/python3.7/site-packages (from tensorflow-gpu==2.8.0) (2.8.0)\n",
      "Requirement already satisfied: flatbuffers>=1.12 in /home/sdanayak/.conda/envs/py37_env/lib/python3.7/site-packages (from tensorflow-gpu==2.8.0) (24.3.25)\n",
      "Requirement already satisfied: six>=1.12.0 in /home/sdanayak/.conda/envs/py37_env/lib/python3.7/site-packages (from tensorflow-gpu==2.8.0) (1.17.0)\n",
      "Requirement already satisfied: opt-einsum>=2.3.2 in /home/sdanayak/.conda/envs/py37_env/lib/python3.7/site-packages (from tensorflow-gpu==2.8.0) (3.3.0)\n",
      "Requirement already satisfied: libclang>=9.0.1 in /home/sdanayak/.conda/envs/py37_env/lib/python3.7/site-packages (from tensorflow-gpu==2.8.0) (18.1.1)\n",
      "Requirement already satisfied: gast>=0.2.1 in /home/sdanayak/.conda/envs/py37_env/lib/python3.7/site-packages (from tensorflow-gpu==2.8.0) (0.4.0)\n",
      "Requirement already satisfied: astunparse>=1.6.0 in /home/sdanayak/.conda/envs/py37_env/lib/python3.7/site-packages (from tensorflow-gpu==2.8.0) (1.6.3)\n",
      "Requirement already satisfied: tf-estimator-nightly==2.8.0.dev2021122109 in /home/sdanayak/.conda/envs/py37_env/lib/python3.7/site-packages (from tensorflow-gpu==2.8.0) (2.8.0.dev2021122109)\n",
      "Requirement already satisfied: keras-preprocessing>=1.1.1 in /home/sdanayak/.conda/envs/py37_env/lib/python3.7/site-packages (from tensorflow-gpu==2.8.0) (1.1.2)\n",
      "Requirement already satisfied: tensorflow-io-gcs-filesystem>=0.23.1 in /home/sdanayak/.conda/envs/py37_env/lib/python3.7/site-packages (from tensorflow-gpu==2.8.0) (0.34.0)\n",
      "Requirement already satisfied: termcolor>=1.1.0 in /home/sdanayak/.conda/envs/py37_env/lib/python3.7/site-packages (from tensorflow-gpu==2.8.0) (2.3.0)\n",
      "Requirement already satisfied: h5py>=2.9.0 in /home/sdanayak/.conda/envs/py37_env/lib/python3.7/site-packages (from tensorflow-gpu==2.8.0) (3.8.0)\n",
      "Requirement already satisfied: absl-py>=0.4.0 in /home/sdanayak/.conda/envs/py37_env/lib/python3.7/site-packages (from tensorflow-gpu==2.8.0) (2.1.0)\n",
      "Requirement already satisfied: tensorboard<2.9,>=2.8 in /home/sdanayak/.conda/envs/py37_env/lib/python3.7/site-packages (from tensorflow-gpu==2.8.0) (2.8.0)\n",
      "Requirement already satisfied: typing-extensions>=3.6.6 in /home/sdanayak/.conda/envs/py37_env/lib/python3.7/site-packages (from tensorflow-gpu==2.8.0) (4.7.1)\n",
      "Requirement already satisfied: numpy>=1.20 in /home/sdanayak/.conda/envs/py37_env/lib/python3.7/site-packages (from tensorflow-gpu==2.8.0) (1.21.6)\n",
      "Requirement already satisfied: wheel<1.0,>=0.23.0 in /home/sdanayak/.conda/envs/py37_env/lib/python3.7/site-packages (from astunparse>=1.6.0->tensorflow-gpu==2.8.0) (0.38.4)\n",
      "Requirement already satisfied: google-auth-oauthlib<0.5,>=0.4.1 in /home/sdanayak/.conda/envs/py37_env/lib/python3.7/site-packages (from tensorboard<2.9,>=2.8->tensorflow-gpu==2.8.0) (0.4.6)\n",
      "Requirement already satisfied: requests<3,>=2.21.0 in /home/sdanayak/.conda/envs/py37_env/lib/python3.7/site-packages (from tensorboard<2.9,>=2.8->tensorflow-gpu==2.8.0) (2.31.0)\n",
      "Requirement already satisfied: tensorboard-data-server<0.7.0,>=0.6.0 in /home/sdanayak/.conda/envs/py37_env/lib/python3.7/site-packages (from tensorboard<2.9,>=2.8->tensorflow-gpu==2.8.0) (0.6.1)\n",
      "Requirement already satisfied: werkzeug>=0.11.15 in /home/sdanayak/.conda/envs/py37_env/lib/python3.7/site-packages (from tensorboard<2.9,>=2.8->tensorflow-gpu==2.8.0) (2.2.3)\n",
      "Requirement already satisfied: markdown>=2.6.8 in /home/sdanayak/.conda/envs/py37_env/lib/python3.7/site-packages (from tensorboard<2.9,>=2.8->tensorflow-gpu==2.8.0) (3.4.4)\n",
      "Requirement already satisfied: tensorboard-plugin-wit>=1.6.0 in /home/sdanayak/.conda/envs/py37_env/lib/python3.7/site-packages (from tensorboard<2.9,>=2.8->tensorflow-gpu==2.8.0) (1.8.1)\n",
      "Requirement already satisfied: google-auth<3,>=1.6.3 in /home/sdanayak/.conda/envs/py37_env/lib/python3.7/site-packages (from tensorboard<2.9,>=2.8->tensorflow-gpu==2.8.0) (2.37.0)\n",
      "Requirement already satisfied: pyasn1-modules>=0.2.1 in /home/sdanayak/.conda/envs/py37_env/lib/python3.7/site-packages (from google-auth<3,>=1.6.3->tensorboard<2.9,>=2.8->tensorflow-gpu==2.8.0) (0.3.0)\n",
      "Requirement already satisfied: rsa<5,>=3.1.4 in /home/sdanayak/.conda/envs/py37_env/lib/python3.7/site-packages (from google-auth<3,>=1.6.3->tensorboard<2.9,>=2.8->tensorflow-gpu==2.8.0) (4.9)\n",
      "Requirement already satisfied: cachetools<6.0,>=2.0.0 in /home/sdanayak/.conda/envs/py37_env/lib/python3.7/site-packages (from google-auth<3,>=1.6.3->tensorboard<2.9,>=2.8->tensorflow-gpu==2.8.0) (5.5.0)\n",
      "Requirement already satisfied: requests-oauthlib>=0.7.0 in /home/sdanayak/.conda/envs/py37_env/lib/python3.7/site-packages (from google-auth-oauthlib<0.5,>=0.4.1->tensorboard<2.9,>=2.8->tensorflow-gpu==2.8.0) (2.0.0)\n",
      "Requirement already satisfied: importlib-metadata>=4.4 in /home/sdanayak/.conda/envs/py37_env/lib/python3.7/site-packages (from markdown>=2.6.8->tensorboard<2.9,>=2.8->tensorflow-gpu==2.8.0) (6.7.0)\n",
      "Requirement already satisfied: idna<4,>=2.5 in /home/sdanayak/.conda/envs/py37_env/lib/python3.7/site-packages (from requests<3,>=2.21.0->tensorboard<2.9,>=2.8->tensorflow-gpu==2.8.0) (3.10)\n",
      "Requirement already satisfied: urllib3<3,>=1.21.1 in /home/sdanayak/.conda/envs/py37_env/lib/python3.7/site-packages (from requests<3,>=2.21.0->tensorboard<2.9,>=2.8->tensorflow-gpu==2.8.0) (2.0.7)\n",
      "Requirement already satisfied: charset-normalizer<4,>=2 in /home/sdanayak/.conda/envs/py37_env/lib/python3.7/site-packages (from requests<3,>=2.21.0->tensorboard<2.9,>=2.8->tensorflow-gpu==2.8.0) (3.4.0)\n",
      "Requirement already satisfied: certifi>=2017.4.17 in /home/sdanayak/.conda/envs/py37_env/lib/python3.7/site-packages (from requests<3,>=2.21.0->tensorboard<2.9,>=2.8->tensorflow-gpu==2.8.0) (2022.12.7)\n",
      "Requirement already satisfied: MarkupSafe>=2.1.1 in /home/sdanayak/.conda/envs/py37_env/lib/python3.7/site-packages (from werkzeug>=0.11.15->tensorboard<2.9,>=2.8->tensorflow-gpu==2.8.0) (2.1.5)\n",
      "Requirement already satisfied: zipp>=0.5 in /home/sdanayak/.conda/envs/py37_env/lib/python3.7/site-packages (from importlib-metadata>=4.4->markdown>=2.6.8->tensorboard<2.9,>=2.8->tensorflow-gpu==2.8.0) (3.15.0)\n",
      "Requirement already satisfied: pyasn1<0.6.0,>=0.4.6 in /home/sdanayak/.conda/envs/py37_env/lib/python3.7/site-packages (from pyasn1-modules>=0.2.1->google-auth<3,>=1.6.3->tensorboard<2.9,>=2.8->tensorflow-gpu==2.8.0) (0.5.1)\n",
      "Requirement already satisfied: oauthlib>=3.0.0 in /home/sdanayak/.conda/envs/py37_env/lib/python3.7/site-packages (from requests-oauthlib>=0.7.0->google-auth-oauthlib<0.5,>=0.4.1->tensorboard<2.9,>=2.8->tensorflow-gpu==2.8.0) (3.2.2)\n",
      "Note: you may need to restart the kernel to use updated packages.\n"
     ]
    }
   ],
   "source": [
    "pip install tensorflow-gpu==2.8.0"
   ]
  },
  {
   "cell_type": "code",
   "execution_count": 5,
   "id": "08cadeef-c4f6-4488-9a59-610a9724f90a",
   "metadata": {},
   "outputs": [
    {
     "name": "stdout",
     "output_type": "stream",
     "text": [
      "/home/sdanayak/.conda/envs/py37_env/bin/python\n"
     ]
    }
   ],
   "source": [
    "!which python"
   ]
  },
  {
   "cell_type": "code",
   "execution_count": 6,
   "id": "162e77e6-a5be-4fea-9f5b-534589cfdb1f",
   "metadata": {},
   "outputs": [
    {
     "name": "stdout",
     "output_type": "stream",
     "text": [
      "Requirement already satisfied: tensorflow-gpu==2.8.0 in /home/sdanayak/.conda/envs/py37_env/lib/python3.7/site-packages (2.8.0)\n",
      "Requirement already satisfied: flatbuffers>=1.12 in /home/sdanayak/.conda/envs/py37_env/lib/python3.7/site-packages (from tensorflow-gpu==2.8.0) (24.3.25)\n",
      "Requirement already satisfied: termcolor>=1.1.0 in /home/sdanayak/.conda/envs/py37_env/lib/python3.7/site-packages (from tensorflow-gpu==2.8.0) (2.3.0)\n",
      "Requirement already satisfied: absl-py>=0.4.0 in /home/sdanayak/.conda/envs/py37_env/lib/python3.7/site-packages (from tensorflow-gpu==2.8.0) (2.1.0)\n",
      "Requirement already satisfied: google-pasta>=0.1.1 in /home/sdanayak/.conda/envs/py37_env/lib/python3.7/site-packages (from tensorflow-gpu==2.8.0) (0.2.0)\n",
      "Requirement already satisfied: keras<2.9,>=2.8.0rc0 in /home/sdanayak/.conda/envs/py37_env/lib/python3.7/site-packages (from tensorflow-gpu==2.8.0) (2.8.0)\n",
      "Requirement already satisfied: six>=1.12.0 in /home/sdanayak/.conda/envs/py37_env/lib/python3.7/site-packages (from tensorflow-gpu==2.8.0) (1.17.0)\n",
      "Requirement already satisfied: protobuf>=3.9.2 in /home/sdanayak/.conda/envs/py37_env/lib/python3.7/site-packages (from tensorflow-gpu==2.8.0) (3.19.6)\n",
      "Requirement already satisfied: tensorflow-io-gcs-filesystem>=0.23.1 in /home/sdanayak/.conda/envs/py37_env/lib/python3.7/site-packages (from tensorflow-gpu==2.8.0) (0.34.0)\n",
      "Requirement already satisfied: libclang>=9.0.1 in /home/sdanayak/.conda/envs/py37_env/lib/python3.7/site-packages (from tensorflow-gpu==2.8.0) (18.1.1)\n",
      "Requirement already satisfied: gast>=0.2.1 in /home/sdanayak/.conda/envs/py37_env/lib/python3.7/site-packages (from tensorflow-gpu==2.8.0) (0.4.0)\n",
      "Requirement already satisfied: grpcio<2.0,>=1.24.3 in /home/sdanayak/.conda/envs/py37_env/lib/python3.7/site-packages (from tensorflow-gpu==2.8.0) (1.62.3)\n",
      "Requirement already satisfied: tensorboard<2.9,>=2.8 in /home/sdanayak/.conda/envs/py37_env/lib/python3.7/site-packages (from tensorflow-gpu==2.8.0) (2.8.0)\n",
      "Requirement already satisfied: numpy>=1.20 in /home/sdanayak/.conda/envs/py37_env/lib/python3.7/site-packages (from tensorflow-gpu==2.8.0) (1.21.6)\n",
      "Requirement already satisfied: setuptools in /home/sdanayak/.conda/envs/py37_env/lib/python3.7/site-packages (from tensorflow-gpu==2.8.0) (65.6.3)\n",
      "Requirement already satisfied: typing-extensions>=3.6.6 in /home/sdanayak/.conda/envs/py37_env/lib/python3.7/site-packages (from tensorflow-gpu==2.8.0) (4.7.1)\n",
      "Requirement already satisfied: wrapt>=1.11.0 in /home/sdanayak/.conda/envs/py37_env/lib/python3.7/site-packages (from tensorflow-gpu==2.8.0) (1.16.0)\n",
      "Requirement already satisfied: tf-estimator-nightly==2.8.0.dev2021122109 in /home/sdanayak/.conda/envs/py37_env/lib/python3.7/site-packages (from tensorflow-gpu==2.8.0) (2.8.0.dev2021122109)\n",
      "Requirement already satisfied: keras-preprocessing>=1.1.1 in /home/sdanayak/.conda/envs/py37_env/lib/python3.7/site-packages (from tensorflow-gpu==2.8.0) (1.1.2)\n",
      "Requirement already satisfied: astunparse>=1.6.0 in /home/sdanayak/.conda/envs/py37_env/lib/python3.7/site-packages (from tensorflow-gpu==2.8.0) (1.6.3)\n",
      "Requirement already satisfied: h5py>=2.9.0 in /home/sdanayak/.conda/envs/py37_env/lib/python3.7/site-packages (from tensorflow-gpu==2.8.0) (3.8.0)\n",
      "Requirement already satisfied: opt-einsum>=2.3.2 in /home/sdanayak/.conda/envs/py37_env/lib/python3.7/site-packages (from tensorflow-gpu==2.8.0) (3.3.0)\n",
      "Requirement already satisfied: wheel<1.0,>=0.23.0 in /home/sdanayak/.conda/envs/py37_env/lib/python3.7/site-packages (from astunparse>=1.6.0->tensorflow-gpu==2.8.0) (0.38.4)\n",
      "Requirement already satisfied: requests<3,>=2.21.0 in /home/sdanayak/.conda/envs/py37_env/lib/python3.7/site-packages (from tensorboard<2.9,>=2.8->tensorflow-gpu==2.8.0) (2.31.0)\n",
      "Requirement already satisfied: tensorboard-plugin-wit>=1.6.0 in /home/sdanayak/.conda/envs/py37_env/lib/python3.7/site-packages (from tensorboard<2.9,>=2.8->tensorflow-gpu==2.8.0) (1.8.1)\n",
      "Requirement already satisfied: google-auth<3,>=1.6.3 in /home/sdanayak/.conda/envs/py37_env/lib/python3.7/site-packages (from tensorboard<2.9,>=2.8->tensorflow-gpu==2.8.0) (2.37.0)\n",
      "Requirement already satisfied: tensorboard-data-server<0.7.0,>=0.6.0 in /home/sdanayak/.conda/envs/py37_env/lib/python3.7/site-packages (from tensorboard<2.9,>=2.8->tensorflow-gpu==2.8.0) (0.6.1)\n",
      "Requirement already satisfied: werkzeug>=0.11.15 in /home/sdanayak/.conda/envs/py37_env/lib/python3.7/site-packages (from tensorboard<2.9,>=2.8->tensorflow-gpu==2.8.0) (2.2.3)\n",
      "Requirement already satisfied: google-auth-oauthlib<0.5,>=0.4.1 in /home/sdanayak/.conda/envs/py37_env/lib/python3.7/site-packages (from tensorboard<2.9,>=2.8->tensorflow-gpu==2.8.0) (0.4.6)\n",
      "Requirement already satisfied: markdown>=2.6.8 in /home/sdanayak/.conda/envs/py37_env/lib/python3.7/site-packages (from tensorboard<2.9,>=2.8->tensorflow-gpu==2.8.0) (3.4.4)\n",
      "Requirement already satisfied: cachetools<6.0,>=2.0.0 in /home/sdanayak/.conda/envs/py37_env/lib/python3.7/site-packages (from google-auth<3,>=1.6.3->tensorboard<2.9,>=2.8->tensorflow-gpu==2.8.0) (5.5.0)\n",
      "Requirement already satisfied: rsa<5,>=3.1.4 in /home/sdanayak/.conda/envs/py37_env/lib/python3.7/site-packages (from google-auth<3,>=1.6.3->tensorboard<2.9,>=2.8->tensorflow-gpu==2.8.0) (4.9)\n",
      "Requirement already satisfied: pyasn1-modules>=0.2.1 in /home/sdanayak/.conda/envs/py37_env/lib/python3.7/site-packages (from google-auth<3,>=1.6.3->tensorboard<2.9,>=2.8->tensorflow-gpu==2.8.0) (0.3.0)\n",
      "Requirement already satisfied: requests-oauthlib>=0.7.0 in /home/sdanayak/.conda/envs/py37_env/lib/python3.7/site-packages (from google-auth-oauthlib<0.5,>=0.4.1->tensorboard<2.9,>=2.8->tensorflow-gpu==2.8.0) (2.0.0)\n",
      "Requirement already satisfied: importlib-metadata>=4.4 in /home/sdanayak/.conda/envs/py37_env/lib/python3.7/site-packages (from markdown>=2.6.8->tensorboard<2.9,>=2.8->tensorflow-gpu==2.8.0) (6.7.0)\n",
      "Requirement already satisfied: charset-normalizer<4,>=2 in /home/sdanayak/.conda/envs/py37_env/lib/python3.7/site-packages (from requests<3,>=2.21.0->tensorboard<2.9,>=2.8->tensorflow-gpu==2.8.0) (3.4.0)\n",
      "Requirement already satisfied: urllib3<3,>=1.21.1 in /home/sdanayak/.conda/envs/py37_env/lib/python3.7/site-packages (from requests<3,>=2.21.0->tensorboard<2.9,>=2.8->tensorflow-gpu==2.8.0) (2.0.7)\n",
      "Requirement already satisfied: certifi>=2017.4.17 in /home/sdanayak/.conda/envs/py37_env/lib/python3.7/site-packages (from requests<3,>=2.21.0->tensorboard<2.9,>=2.8->tensorflow-gpu==2.8.0) (2022.12.7)\n",
      "Requirement already satisfied: idna<4,>=2.5 in /home/sdanayak/.conda/envs/py37_env/lib/python3.7/site-packages (from requests<3,>=2.21.0->tensorboard<2.9,>=2.8->tensorflow-gpu==2.8.0) (3.10)\n",
      "Requirement already satisfied: MarkupSafe>=2.1.1 in /home/sdanayak/.conda/envs/py37_env/lib/python3.7/site-packages (from werkzeug>=0.11.15->tensorboard<2.9,>=2.8->tensorflow-gpu==2.8.0) (2.1.5)\n",
      "Requirement already satisfied: zipp>=0.5 in /home/sdanayak/.conda/envs/py37_env/lib/python3.7/site-packages (from importlib-metadata>=4.4->markdown>=2.6.8->tensorboard<2.9,>=2.8->tensorflow-gpu==2.8.0) (3.15.0)\n",
      "Requirement already satisfied: pyasn1<0.6.0,>=0.4.6 in /home/sdanayak/.conda/envs/py37_env/lib/python3.7/site-packages (from pyasn1-modules>=0.2.1->google-auth<3,>=1.6.3->tensorboard<2.9,>=2.8->tensorflow-gpu==2.8.0) (0.5.1)\n",
      "Requirement already satisfied: oauthlib>=3.0.0 in /home/sdanayak/.conda/envs/py37_env/lib/python3.7/site-packages (from requests-oauthlib>=0.7.0->google-auth-oauthlib<0.5,>=0.4.1->tensorboard<2.9,>=2.8->tensorflow-gpu==2.8.0) (3.2.2)\n",
      "Note: you may need to restart the kernel to use updated packages.\n"
     ]
    }
   ],
   "source": [
    "pip install tensorflow-gpu==2.8.0"
   ]
  },
  {
   "cell_type": "code",
   "execution_count": 7,
   "id": "7d8819db-1744-41f4-afae-ee84ef00247f",
   "metadata": {},
   "outputs": [
    {
     "name": "stdout",
     "output_type": "stream",
     "text": [
      "Name: tensorflow\n",
      "Version: 2.11.0\n",
      "Summary: TensorFlow is an open source machine learning framework for everyone.\n",
      "Home-page: https://www.tensorflow.org/\n",
      "Author: Google Inc.\n",
      "Author-email: packages@tensorflow.org\n",
      "License: Apache 2.0\n",
      "Location: /home/sdanayak/.conda/envs/py37_env/lib/python3.7/site-packages\n",
      "Requires: absl-py, astunparse, flatbuffers, gast, google-pasta, grpcio, h5py, keras, libclang, numpy, opt-einsum, packaging, protobuf, setuptools, six, tensorboard, tensorflow-estimator, tensorflow-io-gcs-filesystem, termcolor, typing-extensions, wrapt\n",
      "Required-by: \n",
      "Note: you may need to restart the kernel to use updated packages.\n"
     ]
    }
   ],
   "source": [
    "pip show tensorflow"
   ]
  },
  {
   "cell_type": "code",
   "execution_count": 1,
   "id": "d81667fe-2804-4c7e-bb44-2e3f675b5895",
   "metadata": {},
   "outputs": [
    {
     "name": "stdout",
     "output_type": "stream",
     "text": [
      "Found existing installation: keras 2.8.0\n",
      "Uninstalling keras-2.8.0:\n",
      "  Successfully uninstalled keras-2.8.0\n"
     ]
    }
   ],
   "source": [
    "!pip uninstall keras -y"
   ]
  },
  {
   "cell_type": "code",
   "execution_count": 2,
   "id": "259071e9-ab97-469c-8c5c-50582c4aa21d",
   "metadata": {},
   "outputs": [
    {
     "name": "stdout",
     "output_type": "stream",
     "text": [
      "Collecting keras==2.8.0\n",
      "  Using cached keras-2.8.0-py2.py3-none-any.whl (1.4 MB)\n",
      "Installing collected packages: keras\n",
      "\u001b[31mERROR: pip's dependency resolver does not currently take into account all the packages that are installed. This behaviour is the source of the following dependency conflicts.\n",
      "tensorflow 2.11.0 requires keras<2.12,>=2.11.0, but you have keras 2.8.0 which is incompatible.\n",
      "tensorflow 2.11.0 requires tensorboard<2.12,>=2.11, but you have tensorboard 2.8.0 which is incompatible.\u001b[0m\u001b[31m\n",
      "\u001b[0mSuccessfully installed keras-2.8.0\n",
      "Note: you may need to restart the kernel to use updated packages.\n"
     ]
    }
   ],
   "source": [
    "pip install keras==2.8.0"
   ]
  },
  {
   "cell_type": "code",
   "execution_count": 3,
   "id": "1e5ca2f2-a2e2-47a2-96ce-64e33f0ba2ad",
   "metadata": {},
   "outputs": [
    {
     "name": "stdout",
     "output_type": "stream",
     "text": [
      "Name: keras\n",
      "Version: 2.8.0\n",
      "Summary: Deep learning for humans.\n",
      "Home-page: https://keras.io/\n",
      "Author: Keras team\n",
      "Author-email: keras-users@googlegroups.com\n",
      "License: Apache 2.0\n",
      "Location: /home/sdanayak/.conda/envs/py37_env/lib/python3.7/site-packages\n",
      "Requires: \n",
      "Required-by: intel_tensorflow, tensorflow, tensorflow-gpu\n",
      "---\n",
      "Name: tensorflow-gpu\n",
      "Version: 2.8.0\n",
      "Summary: TensorFlow is an open source machine learning framework for everyone.\n",
      "Home-page: https://www.tensorflow.org/\n",
      "Author: Google Inc.\n",
      "Author-email: packages@tensorflow.org\n",
      "License: Apache 2.0\n",
      "Location: /home/sdanayak/.conda/envs/py37_env/lib/python3.7/site-packages\n",
      "Requires: absl-py, astunparse, flatbuffers, gast, google-pasta, grpcio, h5py, keras, keras-preprocessing, libclang, numpy, opt-einsum, protobuf, setuptools, six, tensorboard, tensorflow-io-gcs-filesystem, termcolor, tf-estimator-nightly, typing-extensions, wrapt\n",
      "Required-by: \n",
      "Note: you may need to restart the kernel to use updated packages.\n"
     ]
    }
   ],
   "source": [
    "pip show keras tensorflow-gpu"
   ]
  },
  {
   "cell_type": "code",
   "execution_count": 4,
   "id": "599702c5-1aee-4be2-a9d2-9c249aaba857",
   "metadata": {},
   "outputs": [
    {
     "name": "stdout",
     "output_type": "stream",
     "text": [
      "Found existing installation: tensorboard 2.8.0\n",
      "Uninstalling tensorboard-2.8.0:\n",
      "  Successfully uninstalled tensorboard-2.8.0\n"
     ]
    }
   ],
   "source": [
    "!pip uninstall tensorboard -y"
   ]
  },
  {
   "cell_type": "code",
   "execution_count": 5,
   "id": "9627e33a-e7ed-4b57-9417-03d9108d7b07",
   "metadata": {},
   "outputs": [
    {
     "name": "stdout",
     "output_type": "stream",
     "text": [
      "Collecting tensorboard==2.8.0\n",
      "  Using cached tensorboard-2.8.0-py3-none-any.whl (5.8 MB)\n",
      "Requirement already satisfied: protobuf>=3.6.0 in /home/sdanayak/.conda/envs/py37_env/lib/python3.7/site-packages (from tensorboard==2.8.0) (3.19.6)\n",
      "Requirement already satisfied: tensorboard-data-server<0.7.0,>=0.6.0 in /home/sdanayak/.conda/envs/py37_env/lib/python3.7/site-packages (from tensorboard==2.8.0) (0.6.1)\n",
      "Requirement already satisfied: werkzeug>=0.11.15 in /home/sdanayak/.conda/envs/py37_env/lib/python3.7/site-packages (from tensorboard==2.8.0) (2.2.3)\n",
      "Requirement already satisfied: absl-py>=0.4 in /home/sdanayak/.conda/envs/py37_env/lib/python3.7/site-packages (from tensorboard==2.8.0) (2.1.0)\n",
      "Requirement already satisfied: google-auth-oauthlib<0.5,>=0.4.1 in /home/sdanayak/.conda/envs/py37_env/lib/python3.7/site-packages (from tensorboard==2.8.0) (0.4.6)\n",
      "Requirement already satisfied: requests<3,>=2.21.0 in /home/sdanayak/.conda/envs/py37_env/lib/python3.7/site-packages (from tensorboard==2.8.0) (2.31.0)\n",
      "Requirement already satisfied: setuptools>=41.0.0 in /home/sdanayak/.conda/envs/py37_env/lib/python3.7/site-packages (from tensorboard==2.8.0) (65.6.3)\n",
      "Requirement already satisfied: tensorboard-plugin-wit>=1.6.0 in /home/sdanayak/.conda/envs/py37_env/lib/python3.7/site-packages (from tensorboard==2.8.0) (1.8.1)\n",
      "Requirement already satisfied: markdown>=2.6.8 in /home/sdanayak/.conda/envs/py37_env/lib/python3.7/site-packages (from tensorboard==2.8.0) (3.4.4)\n",
      "Requirement already satisfied: numpy>=1.12.0 in /home/sdanayak/.conda/envs/py37_env/lib/python3.7/site-packages (from tensorboard==2.8.0) (1.21.6)\n",
      "Requirement already satisfied: wheel>=0.26 in /home/sdanayak/.conda/envs/py37_env/lib/python3.7/site-packages (from tensorboard==2.8.0) (0.38.4)\n",
      "Requirement already satisfied: grpcio>=1.24.3 in /home/sdanayak/.conda/envs/py37_env/lib/python3.7/site-packages (from tensorboard==2.8.0) (1.62.3)\n",
      "Requirement already satisfied: google-auth<3,>=1.6.3 in /home/sdanayak/.conda/envs/py37_env/lib/python3.7/site-packages (from tensorboard==2.8.0) (2.37.0)\n",
      "Requirement already satisfied: rsa<5,>=3.1.4 in /home/sdanayak/.conda/envs/py37_env/lib/python3.7/site-packages (from google-auth<3,>=1.6.3->tensorboard==2.8.0) (4.9)\n",
      "Requirement already satisfied: pyasn1-modules>=0.2.1 in /home/sdanayak/.conda/envs/py37_env/lib/python3.7/site-packages (from google-auth<3,>=1.6.3->tensorboard==2.8.0) (0.3.0)\n",
      "Requirement already satisfied: cachetools<6.0,>=2.0.0 in /home/sdanayak/.conda/envs/py37_env/lib/python3.7/site-packages (from google-auth<3,>=1.6.3->tensorboard==2.8.0) (5.5.0)\n",
      "Requirement already satisfied: requests-oauthlib>=0.7.0 in /home/sdanayak/.conda/envs/py37_env/lib/python3.7/site-packages (from google-auth-oauthlib<0.5,>=0.4.1->tensorboard==2.8.0) (2.0.0)\n",
      "Requirement already satisfied: importlib-metadata>=4.4 in /home/sdanayak/.conda/envs/py37_env/lib/python3.7/site-packages (from markdown>=2.6.8->tensorboard==2.8.0) (6.7.0)\n",
      "Requirement already satisfied: charset-normalizer<4,>=2 in /home/sdanayak/.conda/envs/py37_env/lib/python3.7/site-packages (from requests<3,>=2.21.0->tensorboard==2.8.0) (3.4.0)\n",
      "Requirement already satisfied: urllib3<3,>=1.21.1 in /home/sdanayak/.conda/envs/py37_env/lib/python3.7/site-packages (from requests<3,>=2.21.0->tensorboard==2.8.0) (2.0.7)\n",
      "Requirement already satisfied: certifi>=2017.4.17 in /home/sdanayak/.conda/envs/py37_env/lib/python3.7/site-packages (from requests<3,>=2.21.0->tensorboard==2.8.0) (2022.12.7)\n",
      "Requirement already satisfied: idna<4,>=2.5 in /home/sdanayak/.conda/envs/py37_env/lib/python3.7/site-packages (from requests<3,>=2.21.0->tensorboard==2.8.0) (3.10)\n",
      "Requirement already satisfied: MarkupSafe>=2.1.1 in /home/sdanayak/.conda/envs/py37_env/lib/python3.7/site-packages (from werkzeug>=0.11.15->tensorboard==2.8.0) (2.1.5)\n",
      "Requirement already satisfied: typing-extensions>=3.6.4 in /home/sdanayak/.conda/envs/py37_env/lib/python3.7/site-packages (from importlib-metadata>=4.4->markdown>=2.6.8->tensorboard==2.8.0) (4.7.1)\n",
      "Requirement already satisfied: zipp>=0.5 in /home/sdanayak/.conda/envs/py37_env/lib/python3.7/site-packages (from importlib-metadata>=4.4->markdown>=2.6.8->tensorboard==2.8.0) (3.15.0)\n",
      "Requirement already satisfied: pyasn1<0.6.0,>=0.4.6 in /home/sdanayak/.conda/envs/py37_env/lib/python3.7/site-packages (from pyasn1-modules>=0.2.1->google-auth<3,>=1.6.3->tensorboard==2.8.0) (0.5.1)\n",
      "Requirement already satisfied: oauthlib>=3.0.0 in /home/sdanayak/.conda/envs/py37_env/lib/python3.7/site-packages (from requests-oauthlib>=0.7.0->google-auth-oauthlib<0.5,>=0.4.1->tensorboard==2.8.0) (3.2.2)\n",
      "Installing collected packages: tensorboard\n",
      "\u001b[31mERROR: pip's dependency resolver does not currently take into account all the packages that are installed. This behaviour is the source of the following dependency conflicts.\n",
      "tensorflow 2.11.0 requires keras<2.12,>=2.11.0, but you have keras 2.8.0 which is incompatible.\n",
      "tensorflow 2.11.0 requires tensorboard<2.12,>=2.11, but you have tensorboard 2.8.0 which is incompatible.\u001b[0m\u001b[31m\n",
      "\u001b[0mSuccessfully installed tensorboard-2.8.0\n",
      "Note: you may need to restart the kernel to use updated packages.\n"
     ]
    }
   ],
   "source": [
    "pip install tensorboard==2.8.0"
   ]
  },
  {
   "cell_type": "code",
   "execution_count": 6,
   "id": "a9b1b365-63d1-43f6-842d-da7bd43500cc",
   "metadata": {},
   "outputs": [
    {
     "name": "stdout",
     "output_type": "stream",
     "text": [
      "Name: tensorboard\n",
      "Version: 2.8.0\n",
      "Summary: TensorBoard lets you watch Tensors Flow\n",
      "Home-page: https://github.com/tensorflow/tensorboard\n",
      "Author: Google Inc.\n",
      "Author-email: packages@tensorflow.org\n",
      "License: Apache 2.0\n",
      "Location: /home/sdanayak/.conda/envs/py37_env/lib/python3.7/site-packages\n",
      "Requires: absl-py, google-auth, google-auth-oauthlib, grpcio, markdown, numpy, protobuf, requests, setuptools, tensorboard-data-server, tensorboard-plugin-wit, werkzeug, wheel\n",
      "Required-by: intel_tensorflow, tensorflow, tensorflow-gpu\n",
      "Note: you may need to restart the kernel to use updated packages.\n"
     ]
    }
   ],
   "source": [
    "pip show tensorboard"
   ]
  },
  {
   "cell_type": "code",
   "execution_count": 7,
   "id": "86aadc7a-234e-4975-a190-4ec3b0a704b0",
   "metadata": {},
   "outputs": [
    {
     "name": "stdout",
     "output_type": "stream",
     "text": [
      "Found existing installation: intel_tensorflow 2.8.0\n",
      "Uninstalling intel_tensorflow-2.8.0:\n",
      "  Successfully uninstalled intel_tensorflow-2.8.0\n"
     ]
    }
   ],
   "source": [
    "!pip uninstall intel-tensorflow -y"
   ]
  },
  {
   "cell_type": "code",
   "execution_count": 8,
   "id": "5c8894c8-db73-404b-81dc-7aa6d4eafd6c",
   "metadata": {},
   "outputs": [
    {
     "name": "stdout",
     "output_type": "stream",
     "text": [
      "Collecting intel-tensorflow==2.8\n",
      "  Using cached intel_tensorflow-2.8.0-cp37-cp37m-manylinux2010_x86_64.whl (213.2 MB)\n",
      "Requirement already satisfied: typing-extensions>=3.6.6 in /home/sdanayak/.conda/envs/py37_env/lib/python3.7/site-packages (from intel-tensorflow==2.8) (4.7.1)\n",
      "Requirement already satisfied: termcolor>=1.1.0 in /home/sdanayak/.conda/envs/py37_env/lib/python3.7/site-packages (from intel-tensorflow==2.8) (2.3.0)\n",
      "Requirement already satisfied: tensorboard<2.9,>=2.8 in /home/sdanayak/.conda/envs/py37_env/lib/python3.7/site-packages (from intel-tensorflow==2.8) (2.8.0)\n",
      "Requirement already satisfied: absl-py>=0.4.0 in /home/sdanayak/.conda/envs/py37_env/lib/python3.7/site-packages (from intel-tensorflow==2.8) (2.1.0)\n",
      "Requirement already satisfied: libclang>=9.0.1 in /home/sdanayak/.conda/envs/py37_env/lib/python3.7/site-packages (from intel-tensorflow==2.8) (18.1.1)\n",
      "Requirement already satisfied: setuptools in /home/sdanayak/.conda/envs/py37_env/lib/python3.7/site-packages (from intel-tensorflow==2.8) (65.6.3)\n",
      "Requirement already satisfied: flatbuffers>=1.12 in /home/sdanayak/.conda/envs/py37_env/lib/python3.7/site-packages (from intel-tensorflow==2.8) (24.3.25)\n",
      "Requirement already satisfied: opt-einsum>=2.3.2 in /home/sdanayak/.conda/envs/py37_env/lib/python3.7/site-packages (from intel-tensorflow==2.8) (3.3.0)\n",
      "Requirement already satisfied: astunparse>=1.6.0 in /home/sdanayak/.conda/envs/py37_env/lib/python3.7/site-packages (from intel-tensorflow==2.8) (1.6.3)\n",
      "Requirement already satisfied: gast>=0.2.1 in /home/sdanayak/.conda/envs/py37_env/lib/python3.7/site-packages (from intel-tensorflow==2.8) (0.4.0)\n",
      "Requirement already satisfied: keras-preprocessing>=1.1.1 in /home/sdanayak/.conda/envs/py37_env/lib/python3.7/site-packages (from intel-tensorflow==2.8) (1.1.2)\n",
      "Requirement already satisfied: tensorflow-io-gcs-filesystem>=0.23.1 in /home/sdanayak/.conda/envs/py37_env/lib/python3.7/site-packages (from intel-tensorflow==2.8) (0.34.0)\n",
      "Requirement already satisfied: h5py>=2.9.0 in /home/sdanayak/.conda/envs/py37_env/lib/python3.7/site-packages (from intel-tensorflow==2.8) (3.8.0)\n",
      "Requirement already satisfied: six>=1.12.0 in /home/sdanayak/.conda/envs/py37_env/lib/python3.7/site-packages (from intel-tensorflow==2.8) (1.17.0)\n",
      "Requirement already satisfied: google-pasta>=0.1.1 in /home/sdanayak/.conda/envs/py37_env/lib/python3.7/site-packages (from intel-tensorflow==2.8) (0.2.0)\n",
      "Requirement already satisfied: wrapt>=1.11.0 in /home/sdanayak/.conda/envs/py37_env/lib/python3.7/site-packages (from intel-tensorflow==2.8) (1.16.0)\n",
      "Requirement already satisfied: grpcio<2.0,>=1.24.3 in /home/sdanayak/.conda/envs/py37_env/lib/python3.7/site-packages (from intel-tensorflow==2.8) (1.62.3)\n",
      "Requirement already satisfied: tf-estimator-nightly==2.8.0.dev2021122109 in /home/sdanayak/.conda/envs/py37_env/lib/python3.7/site-packages (from intel-tensorflow==2.8) (2.8.0.dev2021122109)\n",
      "Requirement already satisfied: protobuf>=3.9.2 in /home/sdanayak/.conda/envs/py37_env/lib/python3.7/site-packages (from intel-tensorflow==2.8) (3.19.6)\n",
      "Requirement already satisfied: numpy>=1.20 in /home/sdanayak/.conda/envs/py37_env/lib/python3.7/site-packages (from intel-tensorflow==2.8) (1.21.6)\n",
      "Requirement already satisfied: keras<2.9,>=2.8.0rc0 in /home/sdanayak/.conda/envs/py37_env/lib/python3.7/site-packages (from intel-tensorflow==2.8) (2.8.0)\n",
      "Requirement already satisfied: wheel<1.0,>=0.23.0 in /home/sdanayak/.conda/envs/py37_env/lib/python3.7/site-packages (from astunparse>=1.6.0->intel-tensorflow==2.8) (0.38.4)\n",
      "Requirement already satisfied: google-auth<3,>=1.6.3 in /home/sdanayak/.conda/envs/py37_env/lib/python3.7/site-packages (from tensorboard<2.9,>=2.8->intel-tensorflow==2.8) (2.37.0)\n",
      "Requirement already satisfied: google-auth-oauthlib<0.5,>=0.4.1 in /home/sdanayak/.conda/envs/py37_env/lib/python3.7/site-packages (from tensorboard<2.9,>=2.8->intel-tensorflow==2.8) (0.4.6)\n",
      "Requirement already satisfied: markdown>=2.6.8 in /home/sdanayak/.conda/envs/py37_env/lib/python3.7/site-packages (from tensorboard<2.9,>=2.8->intel-tensorflow==2.8) (3.4.4)\n",
      "Requirement already satisfied: requests<3,>=2.21.0 in /home/sdanayak/.conda/envs/py37_env/lib/python3.7/site-packages (from tensorboard<2.9,>=2.8->intel-tensorflow==2.8) (2.31.0)\n",
      "Requirement already satisfied: tensorboard-data-server<0.7.0,>=0.6.0 in /home/sdanayak/.conda/envs/py37_env/lib/python3.7/site-packages (from tensorboard<2.9,>=2.8->intel-tensorflow==2.8) (0.6.1)\n",
      "Requirement already satisfied: werkzeug>=0.11.15 in /home/sdanayak/.conda/envs/py37_env/lib/python3.7/site-packages (from tensorboard<2.9,>=2.8->intel-tensorflow==2.8) (2.2.3)\n",
      "Requirement already satisfied: tensorboard-plugin-wit>=1.6.0 in /home/sdanayak/.conda/envs/py37_env/lib/python3.7/site-packages (from tensorboard<2.9,>=2.8->intel-tensorflow==2.8) (1.8.1)\n",
      "Requirement already satisfied: pyasn1-modules>=0.2.1 in /home/sdanayak/.conda/envs/py37_env/lib/python3.7/site-packages (from google-auth<3,>=1.6.3->tensorboard<2.9,>=2.8->intel-tensorflow==2.8) (0.3.0)\n",
      "Requirement already satisfied: cachetools<6.0,>=2.0.0 in /home/sdanayak/.conda/envs/py37_env/lib/python3.7/site-packages (from google-auth<3,>=1.6.3->tensorboard<2.9,>=2.8->intel-tensorflow==2.8) (5.5.0)\n",
      "Requirement already satisfied: rsa<5,>=3.1.4 in /home/sdanayak/.conda/envs/py37_env/lib/python3.7/site-packages (from google-auth<3,>=1.6.3->tensorboard<2.9,>=2.8->intel-tensorflow==2.8) (4.9)\n",
      "Requirement already satisfied: requests-oauthlib>=0.7.0 in /home/sdanayak/.conda/envs/py37_env/lib/python3.7/site-packages (from google-auth-oauthlib<0.5,>=0.4.1->tensorboard<2.9,>=2.8->intel-tensorflow==2.8) (2.0.0)\n",
      "Requirement already satisfied: importlib-metadata>=4.4 in /home/sdanayak/.conda/envs/py37_env/lib/python3.7/site-packages (from markdown>=2.6.8->tensorboard<2.9,>=2.8->intel-tensorflow==2.8) (6.7.0)\n",
      "Requirement already satisfied: urllib3<3,>=1.21.1 in /home/sdanayak/.conda/envs/py37_env/lib/python3.7/site-packages (from requests<3,>=2.21.0->tensorboard<2.9,>=2.8->intel-tensorflow==2.8) (2.0.7)\n",
      "Requirement already satisfied: idna<4,>=2.5 in /home/sdanayak/.conda/envs/py37_env/lib/python3.7/site-packages (from requests<3,>=2.21.0->tensorboard<2.9,>=2.8->intel-tensorflow==2.8) (3.10)\n",
      "Requirement already satisfied: charset-normalizer<4,>=2 in /home/sdanayak/.conda/envs/py37_env/lib/python3.7/site-packages (from requests<3,>=2.21.0->tensorboard<2.9,>=2.8->intel-tensorflow==2.8) (3.4.0)\n",
      "Requirement already satisfied: certifi>=2017.4.17 in /home/sdanayak/.conda/envs/py37_env/lib/python3.7/site-packages (from requests<3,>=2.21.0->tensorboard<2.9,>=2.8->intel-tensorflow==2.8) (2022.12.7)\n",
      "Requirement already satisfied: MarkupSafe>=2.1.1 in /home/sdanayak/.conda/envs/py37_env/lib/python3.7/site-packages (from werkzeug>=0.11.15->tensorboard<2.9,>=2.8->intel-tensorflow==2.8) (2.1.5)\n",
      "Requirement already satisfied: zipp>=0.5 in /home/sdanayak/.conda/envs/py37_env/lib/python3.7/site-packages (from importlib-metadata>=4.4->markdown>=2.6.8->tensorboard<2.9,>=2.8->intel-tensorflow==2.8) (3.15.0)\n",
      "Requirement already satisfied: pyasn1<0.6.0,>=0.4.6 in /home/sdanayak/.conda/envs/py37_env/lib/python3.7/site-packages (from pyasn1-modules>=0.2.1->google-auth<3,>=1.6.3->tensorboard<2.9,>=2.8->intel-tensorflow==2.8) (0.5.1)\n",
      "Requirement already satisfied: oauthlib>=3.0.0 in /home/sdanayak/.conda/envs/py37_env/lib/python3.7/site-packages (from requests-oauthlib>=0.7.0->google-auth-oauthlib<0.5,>=0.4.1->tensorboard<2.9,>=2.8->intel-tensorflow==2.8) (3.2.2)\n",
      "Installing collected packages: intel-tensorflow\n",
      "Successfully installed intel-tensorflow-2.8.0\n",
      "Note: you may need to restart the kernel to use updated packages.\n"
     ]
    }
   ],
   "source": [
    "pip install intel-tensorflow==2.8"
   ]
  },
  {
   "cell_type": "code",
   "execution_count": 9,
   "id": "efcdbd77-53f1-48b7-a5c1-8e3250f1bebd",
   "metadata": {},
   "outputs": [],
   "source": [
    "import tensorflow as tf"
   ]
  },
  {
   "cell_type": "code",
   "execution_count": 10,
   "id": "6afed34a-303a-4884-8d05-b285d52bf6dd",
   "metadata": {},
   "outputs": [
    {
     "name": "stdout",
     "output_type": "stream",
     "text": [
      "Requirement already satisfied: scikit-learn in /home/sdanayak/.conda/envs/py37_env/lib/python3.7/site-packages (1.0.2)\n",
      "Requirement already satisfied: joblib>=0.11 in /home/sdanayak/.conda/envs/py37_env/lib/python3.7/site-packages (from scikit-learn) (1.3.2)\n",
      "Requirement already satisfied: numpy>=1.14.6 in /home/sdanayak/.conda/envs/py37_env/lib/python3.7/site-packages (from scikit-learn) (1.21.6)\n",
      "Requirement already satisfied: scipy>=1.1.0 in /home/sdanayak/.conda/envs/py37_env/lib/python3.7/site-packages (from scikit-learn) (1.7.3)\n",
      "Requirement already satisfied: threadpoolctl>=2.0.0 in /home/sdanayak/.conda/envs/py37_env/lib/python3.7/site-packages (from scikit-learn) (3.1.0)\n"
     ]
    }
   ],
   "source": [
    "!pip install scikit-learn"
   ]
  },
  {
   "cell_type": "code",
   "execution_count": 11,
   "id": "1cc70fe3-8eaf-416f-9661-d16973ec784c",
   "metadata": {},
   "outputs": [],
   "source": [
    "import sklearn"
   ]
  },
  {
   "cell_type": "code",
   "execution_count": 12,
   "id": "c315b866-a523-48dd-9ac2-76961d0542ae",
   "metadata": {},
   "outputs": [
    {
     "name": "stdout",
     "output_type": "stream",
     "text": [
      "Requirement already satisfied: matplotlib in /home/sdanayak/.conda/envs/py37_env/lib/python3.7/site-packages (3.5.3)\n",
      "Requirement already satisfied: fonttools>=4.22.0 in /home/sdanayak/.conda/envs/py37_env/lib/python3.7/site-packages (from matplotlib) (4.38.0)\n",
      "Requirement already satisfied: numpy>=1.17 in /home/sdanayak/.conda/envs/py37_env/lib/python3.7/site-packages (from matplotlib) (1.21.6)\n",
      "Requirement already satisfied: pillow>=6.2.0 in /home/sdanayak/.conda/envs/py37_env/lib/python3.7/site-packages (from matplotlib) (9.5.0)\n",
      "Requirement already satisfied: python-dateutil>=2.7 in /home/sdanayak/.conda/envs/py37_env/lib/python3.7/site-packages (from matplotlib) (2.9.0.post0)\n",
      "Requirement already satisfied: packaging>=20.0 in /home/sdanayak/.conda/envs/py37_env/lib/python3.7/site-packages (from matplotlib) (24.0)\n",
      "Requirement already satisfied: kiwisolver>=1.0.1 in /home/sdanayak/.conda/envs/py37_env/lib/python3.7/site-packages (from matplotlib) (1.4.5)\n",
      "Requirement already satisfied: pyparsing>=2.2.1 in /home/sdanayak/.conda/envs/py37_env/lib/python3.7/site-packages (from matplotlib) (3.1.4)\n",
      "Requirement already satisfied: cycler>=0.10 in /home/sdanayak/.conda/envs/py37_env/lib/python3.7/site-packages (from matplotlib) (0.11.0)\n",
      "Requirement already satisfied: typing-extensions in /home/sdanayak/.conda/envs/py37_env/lib/python3.7/site-packages (from kiwisolver>=1.0.1->matplotlib) (4.7.1)\n",
      "Requirement already satisfied: six>=1.5 in /home/sdanayak/.conda/envs/py37_env/lib/python3.7/site-packages (from python-dateutil>=2.7->matplotlib) (1.17.0)\n"
     ]
    }
   ],
   "source": [
    "!pip install matplotlib\n",
    "import matplotlib.pyplot as plt"
   ]
  },
  {
   "cell_type": "code",
   "execution_count": 13,
   "id": "375ea010-afad-4b5d-8ad2-947eb853e177",
   "metadata": {},
   "outputs": [
    {
     "name": "stdout",
     "output_type": "stream",
     "text": [
      "Requirement already satisfied: pandas in /home/sdanayak/.conda/envs/py37_env/lib/python3.7/site-packages (1.3.5)\n",
      "Requirement already satisfied: pytz>=2017.3 in /home/sdanayak/.conda/envs/py37_env/lib/python3.7/site-packages (from pandas) (2024.2)\n",
      "Requirement already satisfied: numpy>=1.17.3 in /home/sdanayak/.conda/envs/py37_env/lib/python3.7/site-packages (from pandas) (1.21.6)\n",
      "Requirement already satisfied: python-dateutil>=2.7.3 in /home/sdanayak/.conda/envs/py37_env/lib/python3.7/site-packages (from pandas) (2.9.0.post0)\n",
      "Requirement already satisfied: six>=1.5 in /home/sdanayak/.conda/envs/py37_env/lib/python3.7/site-packages (from python-dateutil>=2.7.3->pandas) (1.17.0)\n"
     ]
    }
   ],
   "source": [
    "!pip install pandas\n",
    "import pandas as pd"
   ]
  },
  {
   "cell_type": "code",
   "execution_count": 14,
   "id": "30d75647-abc1-47bb-99d0-04945e28278f",
   "metadata": {},
   "outputs": [],
   "source": [
    "from sklearn.model_selection import train_test_split #to split data we used it during imputation of missing values\n",
    "from sklearn.preprocessing import StandardScaler #Standardizes features by removing the mean and scaling to unit variance. imp. to avoid feature bias\n",
    "from tensorflow.keras.models import Sequential #Allows us to define the architecture of the neural network layer by layer.\n",
    "from tensorflow.keras.layers import Dense, Dropout #to define dense layer(fully connected layer), to use activation function like ReLU\n",
    "from tensorflow.keras.optimizers import Adam #allows to u se optimizers(will essentially help during backprop to minimise loss function)\n",
    "from tensorflow.keras.callbacks import EarlyStopping #essential to track model performance metrics and stop for specified num of epochs\n",
    "from sklearn.metrics import classification_report, confusion_matrix #for performance summary such as precision, recall, f1-score etc"
   ]
  },
  {
   "cell_type": "markdown",
   "id": "978d0497-3225-45b3-a9db-e155911bceab",
   "metadata": {},
   "source": [
    "### **LOAD DATASET** (The modified version heart_disease_For_ANN.csv)"
   ]
  },
  {
   "cell_type": "code",
   "execution_count": 15,
   "id": "fd857f1f-f1ac-45c9-8acd-0164e895e0d3",
   "metadata": {},
   "outputs": [],
   "source": [
    "import numpy as np"
   ]
  },
  {
   "cell_type": "code",
   "execution_count": 16,
   "id": "5e9ce237-057d-49a2-984d-65a9d80978de",
   "metadata": {},
   "outputs": [],
   "source": [
    "# Load the dataset\n",
    "df = pd.read_csv('heart_disease_For_ANN.csv')"
   ]
  },
  {
   "cell_type": "code",
   "execution_count": 17,
   "id": "99cd4a4f-4173-43cd-8de3-f8f79791967d",
   "metadata": {},
   "outputs": [
    {
     "data": {
      "text/html": [
       "<div>\n",
       "<style scoped>\n",
       "    .dataframe tbody tr th:only-of-type {\n",
       "        vertical-align: middle;\n",
       "    }\n",
       "\n",
       "    .dataframe tbody tr th {\n",
       "        vertical-align: top;\n",
       "    }\n",
       "\n",
       "    .dataframe thead th {\n",
       "        text-align: right;\n",
       "    }\n",
       "</style>\n",
       "<table border=\"1\" class=\"dataframe\">\n",
       "  <thead>\n",
       "    <tr style=\"text-align: right;\">\n",
       "      <th></th>\n",
       "      <th>age</th>\n",
       "      <th>sex</th>\n",
       "      <th>trestbps</th>\n",
       "      <th>chol</th>\n",
       "      <th>fbs</th>\n",
       "      <th>thalch</th>\n",
       "      <th>exang</th>\n",
       "      <th>oldpeak</th>\n",
       "      <th>slope</th>\n",
       "      <th>ca</th>\n",
       "      <th>num</th>\n",
       "      <th>cp_asymptomatic</th>\n",
       "      <th>cp_atypical angina</th>\n",
       "      <th>cp_non-anginal</th>\n",
       "      <th>cp_typical angina</th>\n",
       "      <th>restecg_lv hypertrophy</th>\n",
       "      <th>restecg_normal</th>\n",
       "      <th>restecg_st-t abnormality</th>\n",
       "      <th>slope_encoded</th>\n",
       "    </tr>\n",
       "  </thead>\n",
       "  <tbody>\n",
       "    <tr>\n",
       "      <th>0</th>\n",
       "      <td>74</td>\n",
       "      <td>0</td>\n",
       "      <td>130.0</td>\n",
       "      <td>0.0</td>\n",
       "      <td>0</td>\n",
       "      <td>140.0</td>\n",
       "      <td>0</td>\n",
       "      <td>0.326473</td>\n",
       "      <td>2</td>\n",
       "      <td>0.0</td>\n",
       "      <td>0</td>\n",
       "      <td>0</td>\n",
       "      <td>0</td>\n",
       "      <td>1</td>\n",
       "      <td>0</td>\n",
       "      <td>0</td>\n",
       "      <td>1</td>\n",
       "      <td>0</td>\n",
       "      <td>2</td>\n",
       "    </tr>\n",
       "    <tr>\n",
       "      <th>1</th>\n",
       "      <td>68</td>\n",
       "      <td>0</td>\n",
       "      <td>135.0</td>\n",
       "      <td>0.0</td>\n",
       "      <td>0</td>\n",
       "      <td>120.0</td>\n",
       "      <td>1</td>\n",
       "      <td>0.000000</td>\n",
       "      <td>3</td>\n",
       "      <td>2.0</td>\n",
       "      <td>3</td>\n",
       "      <td>1</td>\n",
       "      <td>0</td>\n",
       "      <td>0</td>\n",
       "      <td>0</td>\n",
       "      <td>0</td>\n",
       "      <td>0</td>\n",
       "      <td>1</td>\n",
       "      <td>3</td>\n",
       "    </tr>\n",
       "    <tr>\n",
       "      <th>2</th>\n",
       "      <td>55</td>\n",
       "      <td>0</td>\n",
       "      <td>140.0</td>\n",
       "      <td>295.0</td>\n",
       "      <td>0</td>\n",
       "      <td>136.0</td>\n",
       "      <td>0</td>\n",
       "      <td>0.000000</td>\n",
       "      <td>2</td>\n",
       "      <td>0.0</td>\n",
       "      <td>1</td>\n",
       "      <td>0</td>\n",
       "      <td>0</td>\n",
       "      <td>0</td>\n",
       "      <td>1</td>\n",
       "      <td>0</td>\n",
       "      <td>1</td>\n",
       "      <td>0</td>\n",
       "      <td>2</td>\n",
       "    </tr>\n",
       "    <tr>\n",
       "      <th>3</th>\n",
       "      <td>43</td>\n",
       "      <td>0</td>\n",
       "      <td>120.0</td>\n",
       "      <td>175.0</td>\n",
       "      <td>0</td>\n",
       "      <td>120.0</td>\n",
       "      <td>1</td>\n",
       "      <td>1.000000</td>\n",
       "      <td>1</td>\n",
       "      <td>0.0</td>\n",
       "      <td>1</td>\n",
       "      <td>1</td>\n",
       "      <td>0</td>\n",
       "      <td>0</td>\n",
       "      <td>0</td>\n",
       "      <td>0</td>\n",
       "      <td>1</td>\n",
       "      <td>0</td>\n",
       "      <td>1</td>\n",
       "    </tr>\n",
       "    <tr>\n",
       "      <th>4</th>\n",
       "      <td>53</td>\n",
       "      <td>0</td>\n",
       "      <td>105.0</td>\n",
       "      <td>0.0</td>\n",
       "      <td>0</td>\n",
       "      <td>115.0</td>\n",
       "      <td>0</td>\n",
       "      <td>0.000000</td>\n",
       "      <td>1</td>\n",
       "      <td>0.0</td>\n",
       "      <td>1</td>\n",
       "      <td>0</td>\n",
       "      <td>0</td>\n",
       "      <td>1</td>\n",
       "      <td>0</td>\n",
       "      <td>0</td>\n",
       "      <td>1</td>\n",
       "      <td>0</td>\n",
       "      <td>1</td>\n",
       "    </tr>\n",
       "  </tbody>\n",
       "</table>\n",
       "</div>"
      ],
      "text/plain": [
       "   age  sex  trestbps   chol  fbs  thalch  exang   oldpeak  slope   ca  num  \\\n",
       "0   74    0     130.0    0.0    0   140.0      0  0.326473      2  0.0    0   \n",
       "1   68    0     135.0    0.0    0   120.0      1  0.000000      3  2.0    3   \n",
       "2   55    0     140.0  295.0    0   136.0      0  0.000000      2  0.0    1   \n",
       "3   43    0     120.0  175.0    0   120.0      1  1.000000      1  0.0    1   \n",
       "4   53    0     105.0    0.0    0   115.0      0  0.000000      1  0.0    1   \n",
       "\n",
       "   cp_asymptomatic  cp_atypical angina  cp_non-anginal  cp_typical angina  \\\n",
       "0                0                   0               1                  0   \n",
       "1                1                   0               0                  0   \n",
       "2                0                   0               0                  1   \n",
       "3                1                   0               0                  0   \n",
       "4                0                   0               1                  0   \n",
       "\n",
       "   restecg_lv hypertrophy  restecg_normal  restecg_st-t abnormality  \\\n",
       "0                       0               1                         0   \n",
       "1                       0               0                         1   \n",
       "2                       0               1                         0   \n",
       "3                       0               1                         0   \n",
       "4                       0               1                         0   \n",
       "\n",
       "   slope_encoded  \n",
       "0              2  \n",
       "1              3  \n",
       "2              2  \n",
       "3              1  \n",
       "4              1  "
      ]
     },
     "execution_count": 17,
     "metadata": {},
     "output_type": "execute_result"
    }
   ],
   "source": [
    "df.head()"
   ]
  },
  {
   "cell_type": "code",
   "execution_count": 18,
   "id": "791f9dad-dd97-40a6-94a7-2ad9fd86dc41",
   "metadata": {},
   "outputs": [
    {
     "name": "stdout",
     "output_type": "stream",
     "text": [
      "<class 'pandas.core.frame.DataFrame'>\n",
      "RangeIndex: 920 entries, 0 to 919\n",
      "Data columns (total 19 columns):\n",
      " #   Column                    Non-Null Count  Dtype  \n",
      "---  ------                    --------------  -----  \n",
      " 0   age                       920 non-null    int64  \n",
      " 1   sex                       920 non-null    int64  \n",
      " 2   trestbps                  920 non-null    float64\n",
      " 3   chol                      920 non-null    float64\n",
      " 4   fbs                       920 non-null    int64  \n",
      " 5   thalch                    920 non-null    float64\n",
      " 6   exang                     920 non-null    int64  \n",
      " 7   oldpeak                   920 non-null    float64\n",
      " 8   slope                     920 non-null    int64  \n",
      " 9   ca                        920 non-null    float64\n",
      " 10  num                       920 non-null    int64  \n",
      " 11  cp_asymptomatic           920 non-null    int64  \n",
      " 12  cp_atypical angina        920 non-null    int64  \n",
      " 13  cp_non-anginal            920 non-null    int64  \n",
      " 14  cp_typical angina         920 non-null    int64  \n",
      " 15  restecg_lv hypertrophy    920 non-null    int64  \n",
      " 16  restecg_normal            920 non-null    int64  \n",
      " 17  restecg_st-t abnormality  920 non-null    int64  \n",
      " 18  slope_encoded             920 non-null    int64  \n",
      "dtypes: float64(5), int64(14)\n",
      "memory usage: 136.7 KB\n"
     ]
    }
   ],
   "source": [
    "df.info()"
   ]
  },
  {
   "cell_type": "code",
   "execution_count": 19,
   "id": "ea641926-24fc-4efd-bd49-e8b200635d4a",
   "metadata": {},
   "outputs": [],
   "source": [
    " # separating target val i.e. num\n",
    "X = df.drop(columns=['num'])  #feature columns\n",
    "y = df['num'] #contains target column i.e. ANN will predict"
   ]
  },
  {
   "cell_type": "markdown",
   "id": "a221df9a-f509-4f11-900e-59f586f5a121",
   "metadata": {},
   "source": [
    "### We need to use one-hot encoding to tranform our target columun \"num\" into a format that accurately represents independent classes for **Multi Class-Classification num(0-4)**.  \n",
    "**Why do we need to do this?**\n",
    "* each severity category in num (0,1,2,3,4) has no ordinal relationship. If these levels are passed as is ANN will treat the integer labels (0,1,2,3,4) as continuos classes and therefore model accuracy will be impacted.\n",
    "* One-hot encoding ensures the neural network understands that each class is distinct and avoids making false assumptions about relationships between classes.\n",
    "    * Example: One-hot encoding represents each class as a separate vector where only one index is 1, rest 0\n",
    "       * num=0:[1,0,0,0,0]\n",
    "       * num=1:[0,1,0,0,0]\n",
    "       * num=4:[0,0,0,0,1]"
   ]
  },
  {
   "cell_type": "code",
   "execution_count": 20,
   "id": "617a4033-c836-4902-9cf6-7f1fd9310f5f",
   "metadata": {},
   "outputs": [
    {
     "name": "stdout",
     "output_type": "stream",
     "text": [
      "[0 3 1 2 4]\n"
     ]
    }
   ],
   "source": [
    "print(y.unique())"
   ]
  },
  {
   "cell_type": "code",
   "execution_count": 21,
   "id": "cb1f2881-7b3b-4a20-a42c-8daad5fca808",
   "metadata": {},
   "outputs": [],
   "source": [
    "y_encoded = tf.keras.utils.to_categorical(y, num_classes=5) "
   ]
  },
  {
   "cell_type": "code",
   "execution_count": 22,
   "id": "0c323246-d72e-4eb1-8b34-a117c5bc316b",
   "metadata": {},
   "outputs": [
    {
     "name": "stdout",
     "output_type": "stream",
     "text": [
      "[[0. 0. 0. 0. 1.]\n",
      " [0. 0. 0. 1. 0.]\n",
      " [0. 0. 1. 0. 0.]\n",
      " [0. 1. 0. 0. 0.]\n",
      " [1. 0. 0. 0. 0.]]\n"
     ]
    }
   ],
   "source": [
    "print(np.unique(y_encoded, axis=0)) "
   ]
  },
  {
   "cell_type": "markdown",
   "id": "130a9ac2-cb50-4c66-a9b6-537140437d73",
   "metadata": {},
   "source": [
    "### Now splitting the data into test, train and validate sets"
   ]
  },
  {
   "cell_type": "code",
   "execution_count": 23,
   "id": "85614033-2089-45d9-95ab-53a20a0e35d1",
   "metadata": {},
   "outputs": [],
   "source": [
    "X_train, X_temp, y_train, y_temp = train_test_split(X, y_encoded, test_size=0.3, random_state=42, stratify=y)\n",
    "X_val, X_test, y_val, y_test = train_test_split(X_temp, y_temp, test_size=0.5, random_state=42, stratify=np.argmax(y_temp, axis=1))"
   ]
  },
  {
   "cell_type": "code",
   "execution_count": 24,
   "id": "8778188f-1511-42da-937e-d73c3e5a3a99",
   "metadata": {},
   "outputs": [
    {
     "data": {
      "text/plain": [
       "(644, 18)"
      ]
     },
     "execution_count": 24,
     "metadata": {},
     "output_type": "execute_result"
    }
   ],
   "source": [
    "X_train.shape"
   ]
  },
  {
   "cell_type": "code",
   "execution_count": 25,
   "id": "69475346-3cbc-461c-b1c3-621f85e68732",
   "metadata": {},
   "outputs": [
    {
     "data": {
      "text/plain": [
       "(644, 5)"
      ]
     },
     "execution_count": 25,
     "metadata": {},
     "output_type": "execute_result"
    }
   ],
   "source": [
    "y_train.shape"
   ]
  },
  {
   "cell_type": "code",
   "execution_count": 26,
   "id": "29d55594-7a40-4508-80db-adbcef5f46e1",
   "metadata": {},
   "outputs": [
    {
     "data": {
      "text/plain": [
       "(138, 18)"
      ]
     },
     "execution_count": 26,
     "metadata": {},
     "output_type": "execute_result"
    }
   ],
   "source": [
    "X_val.shape"
   ]
  },
  {
   "cell_type": "code",
   "execution_count": 27,
   "id": "43299ab3-6f84-4127-a117-46a7fe73c3d2",
   "metadata": {},
   "outputs": [
    {
     "data": {
      "text/plain": [
       "(138, 18)"
      ]
     },
     "execution_count": 27,
     "metadata": {},
     "output_type": "execute_result"
    }
   ],
   "source": [
    "X_test.shape"
   ]
  },
  {
   "cell_type": "markdown",
   "id": "91990152-1585-4c40-813f-26c63dacaecc",
   "metadata": {},
   "source": [
    "### Standard Scaler:\n",
    "* **What is Standard Scaler:**.\n",
    "  a preprocessing technique used to standardize features by removing the mean and scaling them to unit variance. It is part of the sklearn.preprocessing module in Python's Scikit-learn library.\n",
    "*  **Formula:** z= (feature(x)- mean of the features)/Standard deviation of feature(x) here, z is the standardized value.\n",
    "*  **Result of scalimg:**. The mean of each feature becomes 0, The standard deviation of each feature becomes 1.\n",
    "*  **Benefits of using Scaler for ANN:**\n",
    "  * optimization algorithms (e.g., Gradient Descent) to minimize the error during training. It performs better with similar scales.\n",
    "  * Features with larger ranges or magnitudes can dominate the training process, leading the ANN to give them more importance. Scaling removes this bias by making all features comparable.\n"
   ]
  },
  {
   "cell_type": "code",
   "execution_count": 28,
   "id": "37313b9f-afa0-4da7-b02b-d4afe508bb20",
   "metadata": {},
   "outputs": [],
   "source": [
    "scaler = StandardScaler()\n",
    "X_train_scaled = scaler.fit_transform(X_train)\n",
    "X_val_scaled = scaler.transform(X_val)\n",
    "X_test_scaled = scaler.transform(X_test)"
   ]
  },
  {
   "cell_type": "code",
   "execution_count": 29,
   "id": "1780f420-cc13-4b14-bbfd-32758bbe756c",
   "metadata": {},
   "outputs": [],
   "source": [
    "#Clear any previous session\n",
    "tf.keras.backend.clear_session()\n",
    "tf.random.set_seed(42)"
   ]
  },
  {
   "cell_type": "markdown",
   "id": "f39f019b-3fa7-46fc-bf35-1a3edbc40ea8",
   "metadata": {},
   "source": [
    "### Why clear and set random seed?  \n",
    ".clear_session() resets TensorFlow backend state and clears any existing computation graphs, layers or models. Tensorflow maintains global state of computation graphs, layers etc. if ran multiple times could lead to memory leaks, error \"layer already exists\" etc."
   ]
  },
  {
   "cell_type": "markdown",
   "id": "e4f19703-2eec-4d9b-8c22-3327c0578d18",
   "metadata": {},
   "source": [
    "### Now finally we define our model!!!  "
   ]
  },
  {
   "cell_type": "code",
   "execution_count": 30,
   "id": "5a2c1160-d9aa-4b79-8c1d-2df6218d5268",
   "metadata": {},
   "outputs": [],
   "source": [
    "from tensorflow.keras.regularizers import l2"
   ]
  },
  {
   "cell_type": "code",
   "execution_count": 31,
   "id": "cb14ff46-71a2-46e4-ba19-fa15f4d7caf5",
   "metadata": {},
   "outputs": [
    {
     "name": "stderr",
     "output_type": "stream",
     "text": [
      "2024-12-19 19:10:55.523909: I tensorflow/core/platform/cpu_feature_guard.cc:151] This TensorFlow binary is optimized with oneAPI Deep Neural Network Library (oneDNN) to use the following CPU instructions in performance-critical operations:  AVX2 AVX512F FMA\n",
      "To enable them in other operations, rebuild TensorFlow with the appropriate compiler flags.\n",
      "2024-12-19 19:10:55.525738: I tensorflow/core/common_runtime/process_util.cc:146] Creating new thread pool with default inter op setting: \n"
     ]
    }
   ],
   "source": [
    "# Step 2: Create the model using the Sequential API\n",
    "model = tf.keras.Sequential([\n",
    "    # Input layer\n",
    "    tf.keras.layers.Input(shape=(X_train_scaled.shape[1],)),\n",
    "    \n",
    "    # Hidden layers\n",
    "    tf.keras.layers.Dense(128, activation=\"relu\",kernel_regularizer=l2(0.01)),\n",
    "    tf.keras.layers.Dense(64, activation=\"relu\" ,kernel_regularizer=l2(0.01)),\n",
    "    \n",
    "    # Output layer\n",
    "    tf.keras.layers.Dense(5, activation=\"softmax\")  # 5 classes for multi-class classification\n",
    "])"
   ]
  },
  {
   "attachments": {
    "3757e908-9334-414c-b52c-f3be25df0a39.png": {
     "image/png": "[encoded data removed]"
    },
    "855037ef-5c16-4285-bd39-3e40241433c7.png": {
     "image/png": "[encoded data removed]"
    }
   },
   "cell_type": "markdown",
   "id": "5f4f8b52-aa67-48c9-9466-76376db9ca80",
   "metadata": {},
   "source": [
    "### EXPLANATION:\n",
    "* **sequential** in the line tf.keras.Sequential is used to define a neural network as a linear stack of layers.\n",
    "*  **f.keras.layers.Input(shape=(X_train_scaled.shape[1],))**.\n",
    "      * Specifies the shape of the input data to the model.\n",
    "      * X_train_scaled.shape[1] represents the number of features in the input data, 18 in our case.\n",
    "      * X_train_scaled.shape[1] is set to 1 indicating the model to dynamically extracts the number of features from the training dataset.\n",
    "      * It initializes the input dimension and ensures that the data can propagate through the rest of the model layers.\n",
    "* **tf.keras.layers.Dense(128, activation=\"relu\"),:**\n",
    "      * First hidden layer with fully connected 128 neurons (128 as picjed in power of 2, can be fine tuned later depending upon results for model performance)\n",
    "      * Each neuron performs a weighted sum of the inputs, adds a bias term, and applies the ReLU activation function.\n",
    "      * 128 neurons: Enough for complex patterns in the data without overfitting.\n",
    "      * ReLU activation: Introduces non-linearity into the model, enabling it to learn non-linear relationships between inputs and outputs.\n",
    "      * ReLU is computationally efficient and helps with vanishing Gradient problem.\n",
    "      * Formula: for each neuron j\n",
    "  ![Screenshot 2024-12-13 at 1.40.47 AM.png](attachment:855037ef-5c16-4285-bd39-3e40241433c7.png).\n",
    "\n",
    "* **tf.keras.layers.Dense(64, activation=\"relu\"),** second Hidden layer:\n",
    "      * fully connected dense layer with 64 neurons\n",
    "      * Similar to the first hidden layer, but with fewer neurons to reduce model complexity as we move deeper into the network.\n",
    "      * Reduces dimensionality while maintaining enough capacity to process patterns identified by the first hidden layer.\n",
    "      * another level of non-linearity through the ReLU activation. uses the output vector from first hidden layer for calculation.\n",
    "* Finally we define outout layer **tf.keras.layers.Dense(5, activation=\"softmax\")**.\n",
    "      * fully connected 5 neuron only (since 5 classes so 1 for each)\n",
    "      * softmax as activation function as converts the raw outputs (logits) into probabilities, summing to 1 across all classes. Ensures the outputs are interpretable as probabilities.\n",
    "      * Formula:  For each output class c:  \n",
    "          ![Screenshot 2024-12-13 at 1.50.38 AM.png](attachment:3757e908-9334-414c-b52c-f3be25df0a39.png). \n",
    "   "
   ]
  },
  {
   "cell_type": "code",
   "execution_count": 32,
   "id": "ce883084-4841-441f-a8cc-7428b70103dd",
   "metadata": {},
   "outputs": [],
   "source": [
    "# configuring model for training\n",
    "model.compile(\n",
    "    # OPTIMIZER:  How the model updates weights during training.\n",
    "    #Adam aka Adaptive Moment Estimation.\n",
    "    # Why adam? helps adapts the learning rate for each parameter dynamically, Works well with a wide range of architectures and tasks\n",
    "    optimizer=tf.keras.optimizers.Adam(), \n",
    "\n",
    "    #LOSS Function: Categorical Crossentropy Loss since we want multiclass classification\n",
    "    # since our target labels are one-hot encoded\n",
    "    # formula: Loss= - summation of (true label for class i * log(predicted probabilities for class i)from i=1 to c\n",
    "    # The loss is averaged over all training samples in a batch.\n",
    "    loss=tf.keras.losses.CategoricalCrossentropy(),\n",
    "\n",
    "    # metric is set as accuracy to measure the fraction of correctly predicted samples.\n",
    "    # In multi-class classification, accuracy is calculated by comparing the predicted class (highest probability) with the true class.\n",
    "    #Formula: Accuracy= 1/N * summation 1(argmax(predicted values)= argmax(index of true label)) fromi-1 to N where N is num samples\n",
    "    metrics=['accuracy']\n",
    ")"
   ]
  },
  {
   "cell_type": "code",
   "execution_count": 33,
   "id": "7b5b9a43-81df-4874-a958-ae9332da31ec",
   "metadata": {},
   "outputs": [
    {
     "name": "stdout",
     "output_type": "stream",
     "text": [
      "Model: \"sequential\"\n",
      "_________________________________________________________________\n",
      " Layer (type)                Output Shape              Param #   \n",
      "=================================================================\n",
      " dense (Dense)               (None, 128)               2432      \n",
      "                                                                 \n",
      " dense_1 (Dense)             (None, 64)                8256      \n",
      "                                                                 \n",
      " dense_2 (Dense)             (None, 5)                 325       \n",
      "                                                                 \n",
      "=================================================================\n",
      "Total params: 11,013\n",
      "Trainable params: 11,013\n",
      "Non-trainable params: 0\n",
      "_________________________________________________________________\n"
     ]
    }
   ],
   "source": [
    "model.summary()"
   ]
  },
  {
   "cell_type": "markdown",
   "id": "4eaff4e7-8084-4ab2-8d11-4cff44fc70eb",
   "metadata": {},
   "source": [
    "### INFERENCE FROM SUMMARY: Basically lays out what we defined above for our model. \n",
    "* The model has 3 layers, including the input, hidden, and output layers.\n",
    "* Each layer contributes to the total trainable parameters based on the number of inputs, neurons, and connections.\n",
    "* The batch size is flexible and not fixed during model compilation or training.\n"
   ]
  },
  {
   "cell_type": "code",
   "execution_count": 34,
   "id": "15c5d4a4-a4ef-4ec1-8e34-a6c22f0cde90",
   "metadata": {},
   "outputs": [
    {
     "data": {
      "text/plain": [
       "18"
      ]
     },
     "execution_count": 34,
     "metadata": {},
     "output_type": "execute_result"
    }
   ],
   "source": [
    "X_train_scaled.shape[1] "
   ]
  },
  {
   "cell_type": "markdown",
   "id": "fe8a3a5c-c2f8-476d-a679-f1a820942777",
   "metadata": {},
   "source": [
    "### Now we fit the model with first 50 epochs"
   ]
  },
  {
   "cell_type": "code",
   "execution_count": 35,
   "id": "6602ccea-3010-4501-bcbe-472f6c940e10",
   "metadata": {},
   "outputs": [
    {
     "name": "stdout",
     "output_type": "stream",
     "text": [
      "Epoch 1/50\n",
      "21/21 [==============================] - 1s 30ms/step - loss: 2.3448 - accuracy: 0.5295 - val_loss: 2.1159 - val_accuracy: 0.5652\n",
      "Epoch 2/50\n",
      "21/21 [==============================] - 0s 4ms/step - loss: 1.9732 - accuracy: 0.6071 - val_loss: 1.8961 - val_accuracy: 0.6377\n",
      "Epoch 3/50\n",
      "21/21 [==============================] - 0s 5ms/step - loss: 1.7634 - accuracy: 0.6491 - val_loss: 1.7544 - val_accuracy: 0.6449\n",
      "Epoch 4/50\n",
      "21/21 [==============================] - 0s 4ms/step - loss: 1.6100 - accuracy: 0.6817 - val_loss: 1.6503 - val_accuracy: 0.6304\n",
      "Epoch 5/50\n",
      "21/21 [==============================] - 0s 4ms/step - loss: 1.4863 - accuracy: 0.7065 - val_loss: 1.5598 - val_accuracy: 0.6377\n",
      "Epoch 6/50\n",
      "21/21 [==============================] - 0s 4ms/step - loss: 1.3864 - accuracy: 0.7376 - val_loss: 1.4853 - val_accuracy: 0.6449\n",
      "Epoch 7/50\n",
      "21/21 [==============================] - 0s 4ms/step - loss: 1.2982 - accuracy: 0.7469 - val_loss: 1.4237 - val_accuracy: 0.6449\n",
      "Epoch 8/50\n",
      "21/21 [==============================] - 0s 3ms/step - loss: 1.2326 - accuracy: 0.7531 - val_loss: 1.3587 - val_accuracy: 0.6377\n",
      "Epoch 9/50\n",
      "21/21 [==============================] - 0s 4ms/step - loss: 1.1697 - accuracy: 0.7516 - val_loss: 1.3098 - val_accuracy: 0.6522\n",
      "Epoch 10/50\n",
      "21/21 [==============================] - 0s 4ms/step - loss: 1.1234 - accuracy: 0.7640 - val_loss: 1.2646 - val_accuracy: 0.6667\n",
      "Epoch 11/50\n",
      "21/21 [==============================] - 0s 4ms/step - loss: 1.0782 - accuracy: 0.7733 - val_loss: 1.2270 - val_accuracy: 0.6739\n",
      "Epoch 12/50\n",
      "21/21 [==============================] - 0s 5ms/step - loss: 1.0381 - accuracy: 0.7578 - val_loss: 1.1984 - val_accuracy: 0.6739\n",
      "Epoch 13/50\n",
      "21/21 [==============================] - 0s 5ms/step - loss: 1.0033 - accuracy: 0.7842 - val_loss: 1.1667 - val_accuracy: 0.6884\n",
      "Epoch 14/50\n",
      "21/21 [==============================] - 0s 4ms/step - loss: 0.9724 - accuracy: 0.7717 - val_loss: 1.1495 - val_accuracy: 0.6667\n",
      "Epoch 15/50\n",
      "21/21 [==============================] - 0s 4ms/step - loss: 0.9404 - accuracy: 0.7826 - val_loss: 1.1227 - val_accuracy: 0.6812\n",
      "Epoch 16/50\n",
      "21/21 [==============================] - 0s 4ms/step - loss: 0.9226 - accuracy: 0.7842 - val_loss: 1.1016 - val_accuracy: 0.6884\n",
      "Epoch 17/50\n",
      "21/21 [==============================] - 0s 4ms/step - loss: 0.8995 - accuracy: 0.7826 - val_loss: 1.0841 - val_accuracy: 0.6812\n",
      "Epoch 18/50\n",
      "21/21 [==============================] - 0s 4ms/step - loss: 0.8821 - accuracy: 0.7764 - val_loss: 1.0781 - val_accuracy: 0.6957\n",
      "Epoch 19/50\n",
      "21/21 [==============================] - 0s 5ms/step - loss: 0.8589 - accuracy: 0.7857 - val_loss: 1.0696 - val_accuracy: 0.6812\n",
      "Epoch 20/50\n",
      "21/21 [==============================] - 0s 4ms/step - loss: 0.8477 - accuracy: 0.7873 - val_loss: 1.0352 - val_accuracy: 0.7101\n",
      "Epoch 21/50\n",
      "21/21 [==============================] - 0s 4ms/step - loss: 0.8271 - accuracy: 0.7997 - val_loss: 1.0388 - val_accuracy: 0.6884\n",
      "Epoch 22/50\n",
      "21/21 [==============================] - 0s 4ms/step - loss: 0.8138 - accuracy: 0.7904 - val_loss: 1.0329 - val_accuracy: 0.7101\n",
      "Epoch 23/50\n",
      "21/21 [==============================] - 0s 4ms/step - loss: 0.8054 - accuracy: 0.7981 - val_loss: 1.0173 - val_accuracy: 0.7101\n",
      "Epoch 24/50\n",
      "21/21 [==============================] - 0s 3ms/step - loss: 0.7917 - accuracy: 0.7997 - val_loss: 1.0152 - val_accuracy: 0.6957\n",
      "Epoch 25/50\n",
      "21/21 [==============================] - 0s 5ms/step - loss: 0.7800 - accuracy: 0.7888 - val_loss: 1.0048 - val_accuracy: 0.6884\n",
      "Epoch 26/50\n",
      "21/21 [==============================] - 0s 5ms/step - loss: 0.7759 - accuracy: 0.7997 - val_loss: 0.9902 - val_accuracy: 0.7029\n",
      "Epoch 27/50\n",
      "21/21 [==============================] - 0s 5ms/step - loss: 0.7655 - accuracy: 0.7981 - val_loss: 0.9905 - val_accuracy: 0.7029\n",
      "Epoch 28/50\n",
      "21/21 [==============================] - 0s 7ms/step - loss: 0.7544 - accuracy: 0.8028 - val_loss: 0.9743 - val_accuracy: 0.6957\n",
      "Epoch 29/50\n",
      "21/21 [==============================] - 0s 5ms/step - loss: 0.7473 - accuracy: 0.7950 - val_loss: 0.9862 - val_accuracy: 0.7101\n",
      "Epoch 30/50\n",
      "21/21 [==============================] - 0s 5ms/step - loss: 0.7364 - accuracy: 0.7997 - val_loss: 0.9860 - val_accuracy: 0.6812\n",
      "Epoch 31/50\n",
      "21/21 [==============================] - 0s 5ms/step - loss: 0.7335 - accuracy: 0.8059 - val_loss: 0.9867 - val_accuracy: 0.7101\n",
      "Epoch 32/50\n",
      "21/21 [==============================] - 0s 5ms/step - loss: 0.7224 - accuracy: 0.8137 - val_loss: 0.9826 - val_accuracy: 0.7174\n",
      "Epoch 33/50\n",
      "21/21 [==============================] - 0s 5ms/step - loss: 0.7170 - accuracy: 0.8059 - val_loss: 0.9814 - val_accuracy: 0.7101\n",
      "Epoch 34/50\n",
      "21/21 [==============================] - 0s 7ms/step - loss: 0.7123 - accuracy: 0.8028 - val_loss: 0.9767 - val_accuracy: 0.7029\n",
      "Epoch 35/50\n",
      "21/21 [==============================] - 0s 5ms/step - loss: 0.6993 - accuracy: 0.8075 - val_loss: 0.9770 - val_accuracy: 0.7101\n",
      "Epoch 36/50\n",
      "21/21 [==============================] - 0s 5ms/step - loss: 0.6946 - accuracy: 0.8028 - val_loss: 0.9679 - val_accuracy: 0.7029\n",
      "Epoch 37/50\n",
      "21/21 [==============================] - 0s 5ms/step - loss: 0.6937 - accuracy: 0.8183 - val_loss: 0.9890 - val_accuracy: 0.7174\n",
      "Epoch 38/50\n",
      "21/21 [==============================] - 0s 4ms/step - loss: 0.6954 - accuracy: 0.8043 - val_loss: 0.9828 - val_accuracy: 0.7174\n",
      "Epoch 39/50\n",
      "21/21 [==============================] - 0s 4ms/step - loss: 0.6906 - accuracy: 0.8090 - val_loss: 0.9657 - val_accuracy: 0.7101\n",
      "Epoch 40/50\n",
      "21/21 [==============================] - 0s 3ms/step - loss: 0.6794 - accuracy: 0.8090 - val_loss: 0.9722 - val_accuracy: 0.7174\n",
      "Epoch 41/50\n",
      "21/21 [==============================] - 0s 4ms/step - loss: 0.6756 - accuracy: 0.8090 - val_loss: 0.9726 - val_accuracy: 0.7101\n",
      "Epoch 42/50\n",
      "21/21 [==============================] - 0s 5ms/step - loss: 0.6814 - accuracy: 0.7981 - val_loss: 0.9758 - val_accuracy: 0.7319\n",
      "Epoch 43/50\n",
      "21/21 [==============================] - 0s 5ms/step - loss: 0.6661 - accuracy: 0.8214 - val_loss: 0.9726 - val_accuracy: 0.7319\n",
      "Epoch 44/50\n",
      "21/21 [==============================] - 0s 4ms/step - loss: 0.6783 - accuracy: 0.8168 - val_loss: 0.9744 - val_accuracy: 0.7029\n",
      "Epoch 45/50\n",
      "21/21 [==============================] - 0s 4ms/step - loss: 0.6626 - accuracy: 0.8199 - val_loss: 0.9874 - val_accuracy: 0.6884\n",
      "Epoch 46/50\n",
      "21/21 [==============================] - 0s 5ms/step - loss: 0.6557 - accuracy: 0.8214 - val_loss: 0.9688 - val_accuracy: 0.7174\n",
      "Epoch 47/50\n",
      "21/21 [==============================] - 0s 3ms/step - loss: 0.6513 - accuracy: 0.8199 - val_loss: 0.9682 - val_accuracy: 0.7246\n",
      "Epoch 48/50\n",
      "21/21 [==============================] - 0s 3ms/step - loss: 0.6452 - accuracy: 0.8261 - val_loss: 0.9760 - val_accuracy: 0.7029\n",
      "Epoch 49/50\n",
      "21/21 [==============================] - 0s 4ms/step - loss: 0.6443 - accuracy: 0.8214 - val_loss: 0.9780 - val_accuracy: 0.7174\n",
      "Epoch 50/50\n",
      "21/21 [==============================] - 0s 3ms/step - loss: 0.6406 - accuracy: 0.8323 - val_loss: 0.9770 - val_accuracy: 0.7029\n"
     ]
    }
   ],
   "source": [
    "#model.fit to start the training\n",
    "#Returns a History object that stores information about training and validation loss, accuracy, and other metrics for each epoch.\n",
    "history = model.fit(\n",
    "    X_train_scaled, y_train,  # input features and corresponding target labels\n",
    "\n",
    "    # a subset of data used to evaluate the model's performanceduring training but not used to adjust the weights\n",
    "    validation_data=(X_val_scaled, y_val),  \n",
    "    epochs=50,  # number of full passes through the training dataset during training.\n",
    "\n",
    "    #num samples processed, 32 is commonly used because it provides a good balance b/w convergence speed and computional efficiancy\n",
    "    batch_size=32,\n",
    "\n",
    "    #Controls the verbosity of the training output, helps monitor training.\n",
    "    #1= output progress bar, 0silent mode, 2= outpts metrics for each progress\n",
    "    verbose=1  \n",
    ")\n"
   ]
  },
  {
   "cell_type": "code",
   "execution_count": 36,
   "id": "b5fee479-3cc3-477d-8168-27d42f43ce5d",
   "metadata": {},
   "outputs": [
    {
     "name": "stdout",
     "output_type": "stream",
     "text": [
      "5/5 [==============================] - 0s 4ms/step - loss: 0.9751 - accuracy: 0.6522\n",
      "Test Accuracy: 0.65\n"
     ]
    }
   ],
   "source": [
    "test_loss, test_accuracy = model.evaluate(X_test_scaled, y_test)\n",
    "print(f\"Test Accuracy: {test_accuracy:.2f}\")"
   ]
  },
  {
   "cell_type": "markdown",
   "id": "d72fe686-e212-4ee2-b4c2-2a8953b567c8",
   "metadata": {},
   "source": [
    "### INFERENCE FROM EPOCH:\n",
    "* The model performs well on the training data, as indicated by high training accuracy and low loss. but gap b/w training accuracy and validation accuracy suugests overfitting issue.\n",
    "* The validation metrics (accuracy and loss) indicate reasonable generalization, but further tuning may be required to improve validation accuracy and reduce overfitting."
   ]
  },
  {
   "cell_type": "markdown",
   "id": "6076338c-f911-482a-a55c-fca0a25dbfb9",
   "metadata": {},
   "source": [
    "### NEXT STEPS:\n",
    "Since clearly model is showing overfitting issue next steps:\n",
    "* Early Stopping: halt training when validation loss stops improving, preventing overfitting.\n",
    "* Regularization:  L2 regularization to the model to combat overfitting.\n",
    "* Hyperparameter Tuning: different learning rates, batch sizes, and architectures to improve validation accuracy.\n",
    "* Increase the size or diversity of the training dataset to improve generalization.\n"
   ]
  },
  {
   "cell_type": "markdown",
   "id": "e5c86697-fe1f-4e11-a2df-43bb69e6c075",
   "metadata": {},
   "source": [
    "### Trying Early stopping"
   ]
  },
  {
   "cell_type": "code",
   "execution_count": 37,
   "id": "f738a598-8c75-4f00-a800-f9d6bd9ad572",
   "metadata": {},
   "outputs": [],
   "source": [
    "#import lib\n",
    "from tensorflow.keras.callbacks import EarlyStopping"
   ]
  },
  {
   "cell_type": "code",
   "execution_count": 38,
   "id": "ad9d22e5-3ca7-4cb3-a86e-5f29347329de",
   "metadata": {},
   "outputs": [],
   "source": [
    "#Define Early stopping \n",
    "# metric to monitor: val_loss, val_accuracy etc.\n",
    "#set patience: parameter to define how many epochs to wait for improvement before stopping.\n",
    "#restore_best_weights: parameter to revert to the model state with the best performance.\n",
    "\n",
    "early_stopping = EarlyStopping(\n",
    "    monitor='val_loss',         \n",
    "    patience=5,                 \n",
    "    restore_best_weights=True   \n",
    ")\n"
   ]
  },
  {
   "cell_type": "code",
   "execution_count": 39,
   "id": "4884d429-2269-4dc1-991f-f73dddc3bcd1",
   "metadata": {},
   "outputs": [
    {
     "name": "stdout",
     "output_type": "stream",
     "text": [
      "Epoch 1/50\n",
      "21/21 [==============================] - 0s 7ms/step - loss: 0.6375 - accuracy: 0.8447 - val_loss: 0.9823 - val_accuracy: 0.6957\n",
      "Epoch 2/50\n",
      "21/21 [==============================] - 0s 4ms/step - loss: 0.6465 - accuracy: 0.8323 - val_loss: 0.9697 - val_accuracy: 0.7029\n",
      "Epoch 3/50\n",
      "21/21 [==============================] - 0s 4ms/step - loss: 0.6283 - accuracy: 0.8432 - val_loss: 0.9848 - val_accuracy: 0.7246\n",
      "Epoch 4/50\n",
      "21/21 [==============================] - 0s 5ms/step - loss: 0.6291 - accuracy: 0.8370 - val_loss: 0.9676 - val_accuracy: 0.7174\n",
      "Epoch 5/50\n",
      "21/21 [==============================] - 0s 4ms/step - loss: 0.6259 - accuracy: 0.8370 - val_loss: 0.9821 - val_accuracy: 0.7029\n",
      "Epoch 6/50\n",
      "21/21 [==============================] - 0s 5ms/step - loss: 0.6236 - accuracy: 0.8385 - val_loss: 0.9962 - val_accuracy: 0.6812\n",
      "Epoch 7/50\n",
      "21/21 [==============================] - 0s 5ms/step - loss: 0.6169 - accuracy: 0.8292 - val_loss: 0.9819 - val_accuracy: 0.7029\n",
      "Epoch 8/50\n",
      "21/21 [==============================] - 0s 4ms/step - loss: 0.6153 - accuracy: 0.8416 - val_loss: 0.9800 - val_accuracy: 0.7101\n",
      "Epoch 9/50\n",
      "21/21 [==============================] - 0s 4ms/step - loss: 0.6115 - accuracy: 0.8447 - val_loss: 0.9806 - val_accuracy: 0.7101\n"
     ]
    }
   ],
   "source": [
    "#define model for training\n",
    "history = model.fit(\n",
    "    X_train_scaled, y_train,  \n",
    "    validation_data=(X_val_scaled, y_val),  \n",
    "    epochs=50,                  \n",
    "    batch_size=32,              \n",
    "    verbose=1,                 \n",
    "    callbacks=[early_stopping]  # Added the EarlyStopping callback\n",
    ")"
   ]
  },
  {
   "cell_type": "code",
   "execution_count": 40,
   "id": "04eb6909-ab5e-4636-8b6b-0397c6e816db",
   "metadata": {},
   "outputs": [
    {
     "name": "stdout",
     "output_type": "stream",
     "text": [
      "5/5 [==============================] - 0s 1ms/step - loss: 0.9609 - accuracy: 0.6594\n",
      "Test Accuracy: 0.66\n"
     ]
    }
   ],
   "source": [
    "test_loss, test_accuracy = model.evaluate(X_test_scaled, y_test)\n",
    "print(f\"Test Accuracy: {test_accuracy:.2f}\")"
   ]
  },
  {
   "cell_type": "markdown",
   "id": "d0fe4ec3-6105-4cca-be64-a1b4cdb4cfc1",
   "metadata": {},
   "source": [
    "### even worse results- let's try increasing patience parameter, and monitoring metric"
   ]
  },
  {
   "cell_type": "code",
   "execution_count": 41,
   "id": "4c6dfb05-5473-4a8c-994b-8c80e977b341",
   "metadata": {},
   "outputs": [],
   "source": [
    "early_stopping = EarlyStopping(\n",
    "    monitor='val_accuracy',         \n",
    "    patience=15,                 \n",
    "    restore_best_weights=True   \n",
    ")"
   ]
  },
  {
   "cell_type": "code",
   "execution_count": 42,
   "id": "628c43b6-c6ea-4213-ae8c-85a15fe10207",
   "metadata": {},
   "outputs": [
    {
     "name": "stdout",
     "output_type": "stream",
     "text": [
      "Epoch 1/50\n",
      "21/21 [==============================] - 0s 7ms/step - loss: 0.6311 - accuracy: 0.8261 - val_loss: 0.9902 - val_accuracy: 0.7029\n",
      "Epoch 2/50\n",
      "21/21 [==============================] - 0s 5ms/step - loss: 0.6331 - accuracy: 0.8447 - val_loss: 0.9791 - val_accuracy: 0.7174\n",
      "Epoch 3/50\n",
      "21/21 [==============================] - 0s 4ms/step - loss: 0.6140 - accuracy: 0.8525 - val_loss: 0.9935 - val_accuracy: 0.7029\n",
      "Epoch 4/50\n",
      "21/21 [==============================] - 0s 4ms/step - loss: 0.6152 - accuracy: 0.8463 - val_loss: 0.9737 - val_accuracy: 0.7246\n",
      "Epoch 5/50\n",
      "21/21 [==============================] - 0s 4ms/step - loss: 0.6134 - accuracy: 0.8385 - val_loss: 0.9907 - val_accuracy: 0.7029\n",
      "Epoch 6/50\n",
      "21/21 [==============================] - 0s 4ms/step - loss: 0.6111 - accuracy: 0.8416 - val_loss: 1.0034 - val_accuracy: 0.6884\n",
      "Epoch 7/50\n",
      "21/21 [==============================] - 0s 4ms/step - loss: 0.6047 - accuracy: 0.8385 - val_loss: 0.9892 - val_accuracy: 0.7029\n",
      "Epoch 8/50\n",
      "21/21 [==============================] - 0s 4ms/step - loss: 0.6025 - accuracy: 0.8556 - val_loss: 0.9864 - val_accuracy: 0.7174\n",
      "Epoch 9/50\n",
      "21/21 [==============================] - 0s 4ms/step - loss: 0.5997 - accuracy: 0.8540 - val_loss: 0.9857 - val_accuracy: 0.7101\n",
      "Epoch 10/50\n",
      "21/21 [==============================] - 0s 4ms/step - loss: 0.6082 - accuracy: 0.8432 - val_loss: 1.0130 - val_accuracy: 0.7246\n",
      "Epoch 11/50\n",
      "21/21 [==============================] - 0s 4ms/step - loss: 0.6091 - accuracy: 0.8432 - val_loss: 1.0151 - val_accuracy: 0.7029\n",
      "Epoch 12/50\n",
      "21/21 [==============================] - 0s 4ms/step - loss: 0.5938 - accuracy: 0.8571 - val_loss: 0.9954 - val_accuracy: 0.7029\n",
      "Epoch 13/50\n",
      "21/21 [==============================] - 0s 4ms/step - loss: 0.6088 - accuracy: 0.8354 - val_loss: 1.0101 - val_accuracy: 0.7029\n",
      "Epoch 14/50\n",
      "21/21 [==============================] - 0s 4ms/step - loss: 0.5916 - accuracy: 0.8494 - val_loss: 1.0085 - val_accuracy: 0.7174\n",
      "Epoch 15/50\n",
      "21/21 [==============================] - 0s 5ms/step - loss: 0.5855 - accuracy: 0.8602 - val_loss: 0.9997 - val_accuracy: 0.7174\n",
      "Epoch 16/50\n",
      "21/21 [==============================] - 0s 5ms/step - loss: 0.5838 - accuracy: 0.8571 - val_loss: 0.9983 - val_accuracy: 0.7029\n",
      "Epoch 17/50\n",
      "21/21 [==============================] - 0s 5ms/step - loss: 0.6021 - accuracy: 0.8494 - val_loss: 0.9998 - val_accuracy: 0.7174\n",
      "Epoch 18/50\n",
      "21/21 [==============================] - 0s 4ms/step - loss: 0.5779 - accuracy: 0.8587 - val_loss: 1.0221 - val_accuracy: 0.7101\n",
      "Epoch 19/50\n",
      "21/21 [==============================] - 0s 5ms/step - loss: 0.5781 - accuracy: 0.8665 - val_loss: 1.0240 - val_accuracy: 0.7101\n"
     ]
    }
   ],
   "source": [
    "history = model.fit(\n",
    "    X_train_scaled, y_train,  \n",
    "    validation_data=(X_val_scaled, y_val),  \n",
    "    epochs=50,                  \n",
    "    batch_size=32,              \n",
    "    verbose=1,                 \n",
    "    callbacks=[early_stopping]  # Added the EarlyStopping callback\n",
    ")"
   ]
  },
  {
   "cell_type": "code",
   "execution_count": 43,
   "id": "90ae6ba2-85d2-49fc-b4b2-9cf42d00fcbd",
   "metadata": {},
   "outputs": [
    {
     "name": "stdout",
     "output_type": "stream",
     "text": [
      "5/5 [==============================] - 0s 3ms/step - loss: 0.9582 - accuracy: 0.6594\n",
      "Test Accuracy: 0.66\n"
     ]
    }
   ],
   "source": [
    "test_loss, test_accuracy = model.evaluate(X_test_scaled, y_test)\n",
    "print(f\"Test Accuracy: {test_accuracy:.2f}\")"
   ]
  },
  {
   "cell_type": "markdown",
   "id": "03ab4931-aeaf-4f72-bedc-432858607965",
   "metadata": {},
   "source": [
    "### patience parameter did not make much difference. Let's try Regularization"
   ]
  },
  {
   "cell_type": "markdown",
   "id": "e23f635c-bc0e-41a5-867f-3cb0f19857e1",
   "metadata": {},
   "source": [
    "### L2 Regularization (Weight Decay)\n",
    "L2 regularization penalizes large weights in the model by adding a term to the loss function proportional to the square of the weights. This discourages the model from relying too much on any single feature.\n"
   ]
  },
  {
   "cell_type": "code",
   "execution_count": 44,
   "id": "afdf072e-662d-4d3e-9d30-b28372d739c3",
   "metadata": {},
   "outputs": [],
   "source": [
    "from tensorflow.keras.regularizers import l2\n",
    "\n",
    "model = tf.keras.Sequential([\n",
    "    tf.keras.layers.Input(shape=(X_train_scaled.shape[1],)),\n",
    "    tf.keras.layers.Dense(128, activation=\"relu\", kernel_regularizer=l2(0.01)), #regularization factor, good starting point value and commonly used\n",
    "    tf.keras.layers.Dense(64, activation=\"relu\", kernel_regularizer=l2(0.01)),\n",
    "    tf.keras.layers.Dense(5, activation=\"softmax\")  \n",
    "])\n"
   ]
  },
  {
   "cell_type": "code",
   "execution_count": 45,
   "id": "b7300cf9-65cf-4b83-8abd-9ed8acc6d51e",
   "metadata": {},
   "outputs": [
    {
     "name": "stdout",
     "output_type": "stream",
     "text": [
      "Epoch 1/50\n",
      "21/21 [==============================] - 1s 24ms/step - loss: 2.3669 - accuracy: 0.4860 - val_loss: 2.1291 - val_accuracy: 0.5652\n",
      "Epoch 2/50\n",
      "21/21 [==============================] - 0s 4ms/step - loss: 1.9832 - accuracy: 0.5745 - val_loss: 1.8926 - val_accuracy: 0.6304\n",
      "Epoch 3/50\n",
      "21/21 [==============================] - 0s 5ms/step - loss: 1.7629 - accuracy: 0.6522 - val_loss: 1.7433 - val_accuracy: 0.6304\n",
      "Epoch 4/50\n",
      "21/21 [==============================] - 0s 5ms/step - loss: 1.6044 - accuracy: 0.6724 - val_loss: 1.6392 - val_accuracy: 0.6087\n",
      "Epoch 5/50\n",
      "21/21 [==============================] - 0s 3ms/step - loss: 1.4765 - accuracy: 0.7065 - val_loss: 1.5540 - val_accuracy: 0.6449\n",
      "Epoch 6/50\n",
      "21/21 [==============================] - 0s 4ms/step - loss: 1.3788 - accuracy: 0.7283 - val_loss: 1.4857 - val_accuracy: 0.6449\n",
      "Epoch 7/50\n",
      "21/21 [==============================] - 0s 6ms/step - loss: 1.2926 - accuracy: 0.7578 - val_loss: 1.4242 - val_accuracy: 0.6377\n",
      "Epoch 8/50\n",
      "21/21 [==============================] - 0s 4ms/step - loss: 1.2251 - accuracy: 0.7593 - val_loss: 1.3652 - val_accuracy: 0.6449\n",
      "Epoch 9/50\n",
      "21/21 [==============================] - 0s 6ms/step - loss: 1.1650 - accuracy: 0.7578 - val_loss: 1.3159 - val_accuracy: 0.6522\n",
      "Epoch 10/50\n",
      "21/21 [==============================] - 0s 5ms/step - loss: 1.1230 - accuracy: 0.7671 - val_loss: 1.2706 - val_accuracy: 0.6667\n",
      "Epoch 11/50\n",
      "21/21 [==============================] - 0s 4ms/step - loss: 1.0766 - accuracy: 0.7811 - val_loss: 1.2391 - val_accuracy: 0.6884\n",
      "Epoch 12/50\n",
      "21/21 [==============================] - 0s 5ms/step - loss: 1.0372 - accuracy: 0.7640 - val_loss: 1.2069 - val_accuracy: 0.6812\n",
      "Epoch 13/50\n",
      "21/21 [==============================] - 0s 5ms/step - loss: 1.0016 - accuracy: 0.7873 - val_loss: 1.1811 - val_accuracy: 0.6667\n",
      "Epoch 14/50\n",
      "21/21 [==============================] - 0s 5ms/step - loss: 0.9727 - accuracy: 0.7702 - val_loss: 1.1638 - val_accuracy: 0.6884\n",
      "Epoch 15/50\n",
      "21/21 [==============================] - 0s 5ms/step - loss: 0.9405 - accuracy: 0.7904 - val_loss: 1.1392 - val_accuracy: 0.6739\n",
      "Epoch 16/50\n",
      "21/21 [==============================] - 0s 5ms/step - loss: 0.9214 - accuracy: 0.7873 - val_loss: 1.1215 - val_accuracy: 0.6957\n",
      "Epoch 17/50\n",
      "21/21 [==============================] - 0s 4ms/step - loss: 0.8995 - accuracy: 0.7842 - val_loss: 1.1056 - val_accuracy: 0.6884\n",
      "Epoch 18/50\n",
      "21/21 [==============================] - 0s 4ms/step - loss: 0.8802 - accuracy: 0.7842 - val_loss: 1.0961 - val_accuracy: 0.6957\n",
      "Epoch 19/50\n",
      "21/21 [==============================] - 0s 6ms/step - loss: 0.8583 - accuracy: 0.7888 - val_loss: 1.0919 - val_accuracy: 0.6884\n",
      "Epoch 20/50\n",
      "21/21 [==============================] - 0s 6ms/step - loss: 0.8470 - accuracy: 0.7919 - val_loss: 1.0544 - val_accuracy: 0.6957\n",
      "Epoch 21/50\n",
      "21/21 [==============================] - 0s 4ms/step - loss: 0.8269 - accuracy: 0.7935 - val_loss: 1.0625 - val_accuracy: 0.6957\n",
      "Epoch 22/50\n",
      "21/21 [==============================] - 0s 7ms/step - loss: 0.8147 - accuracy: 0.7966 - val_loss: 1.0527 - val_accuracy: 0.7174\n",
      "Epoch 23/50\n",
      "21/21 [==============================] - 0s 4ms/step - loss: 0.8048 - accuracy: 0.7997 - val_loss: 1.0358 - val_accuracy: 0.7029\n",
      "Epoch 24/50\n",
      "21/21 [==============================] - 0s 5ms/step - loss: 0.7920 - accuracy: 0.7966 - val_loss: 1.0335 - val_accuracy: 0.6812\n",
      "Epoch 25/50\n",
      "21/21 [==============================] - 0s 6ms/step - loss: 0.7805 - accuracy: 0.7966 - val_loss: 1.0261 - val_accuracy: 0.7029\n",
      "Epoch 26/50\n",
      "21/21 [==============================] - 0s 5ms/step - loss: 0.7766 - accuracy: 0.8012 - val_loss: 1.0071 - val_accuracy: 0.7029\n",
      "Epoch 27/50\n",
      "21/21 [==============================] - 0s 6ms/step - loss: 0.7645 - accuracy: 0.7966 - val_loss: 1.0112 - val_accuracy: 0.6884\n",
      "Epoch 28/50\n",
      "21/21 [==============================] - 0s 5ms/step - loss: 0.7546 - accuracy: 0.8059 - val_loss: 0.9882 - val_accuracy: 0.7174\n",
      "Epoch 29/50\n",
      "21/21 [==============================] - 0s 4ms/step - loss: 0.7457 - accuracy: 0.8059 - val_loss: 1.0058 - val_accuracy: 0.7029\n",
      "Epoch 30/50\n",
      "21/21 [==============================] - 0s 4ms/step - loss: 0.7367 - accuracy: 0.8075 - val_loss: 1.0078 - val_accuracy: 0.7029\n",
      "Epoch 31/50\n",
      "21/21 [==============================] - 0s 6ms/step - loss: 0.7321 - accuracy: 0.8012 - val_loss: 1.0044 - val_accuracy: 0.6884\n",
      "Epoch 32/50\n",
      "21/21 [==============================] - 0s 4ms/step - loss: 0.7212 - accuracy: 0.8059 - val_loss: 1.0023 - val_accuracy: 0.6957\n",
      "Epoch 33/50\n",
      "21/21 [==============================] - 0s 5ms/step - loss: 0.7163 - accuracy: 0.8121 - val_loss: 1.0027 - val_accuracy: 0.6884\n",
      "Epoch 34/50\n",
      "21/21 [==============================] - 0s 7ms/step - loss: 0.7106 - accuracy: 0.8059 - val_loss: 0.9978 - val_accuracy: 0.7101\n",
      "Epoch 35/50\n",
      "21/21 [==============================] - 0s 7ms/step - loss: 0.6988 - accuracy: 0.8012 - val_loss: 0.9980 - val_accuracy: 0.7101\n",
      "Epoch 36/50\n",
      "21/21 [==============================] - 0s 7ms/step - loss: 0.6929 - accuracy: 0.8106 - val_loss: 0.9905 - val_accuracy: 0.7174\n",
      "Epoch 37/50\n",
      "21/21 [==============================] - 0s 5ms/step - loss: 0.6904 - accuracy: 0.8199 - val_loss: 1.0133 - val_accuracy: 0.7101\n",
      "Epoch 38/50\n",
      "21/21 [==============================] - 0s 8ms/step - loss: 0.6925 - accuracy: 0.8106 - val_loss: 1.0084 - val_accuracy: 0.6957\n",
      "Epoch 39/50\n",
      "21/21 [==============================] - 0s 7ms/step - loss: 0.6901 - accuracy: 0.8121 - val_loss: 0.9948 - val_accuracy: 0.7246\n",
      "Epoch 40/50\n",
      "21/21 [==============================] - 0s 6ms/step - loss: 0.6791 - accuracy: 0.8199 - val_loss: 1.0004 - val_accuracy: 0.6957\n",
      "Epoch 41/50\n",
      "21/21 [==============================] - 0s 6ms/step - loss: 0.6735 - accuracy: 0.8137 - val_loss: 0.9977 - val_accuracy: 0.7246\n",
      "Epoch 42/50\n",
      "21/21 [==============================] - 0s 5ms/step - loss: 0.6765 - accuracy: 0.8106 - val_loss: 0.9994 - val_accuracy: 0.7174\n",
      "Epoch 43/50\n",
      "21/21 [==============================] - 0s 7ms/step - loss: 0.6624 - accuracy: 0.8261 - val_loss: 1.0040 - val_accuracy: 0.6957\n",
      "Epoch 44/50\n",
      "21/21 [==============================] - 0s 5ms/step - loss: 0.6738 - accuracy: 0.8292 - val_loss: 1.0007 - val_accuracy: 0.6957\n",
      "Epoch 45/50\n",
      "21/21 [==============================] - 0s 6ms/step - loss: 0.6618 - accuracy: 0.8245 - val_loss: 1.0168 - val_accuracy: 0.6884\n",
      "Epoch 46/50\n",
      "21/21 [==============================] - 0s 5ms/step - loss: 0.6535 - accuracy: 0.8261 - val_loss: 1.0020 - val_accuracy: 0.6957\n",
      "Epoch 47/50\n",
      "21/21 [==============================] - 0s 6ms/step - loss: 0.6501 - accuracy: 0.8230 - val_loss: 1.0016 - val_accuracy: 0.7029\n",
      "Epoch 48/50\n",
      "21/21 [==============================] - 0s 5ms/step - loss: 0.6440 - accuracy: 0.8276 - val_loss: 1.0058 - val_accuracy: 0.6957\n",
      "Epoch 49/50\n",
      "21/21 [==============================] - 0s 7ms/step - loss: 0.6417 - accuracy: 0.8385 - val_loss: 1.0131 - val_accuracy: 0.7029\n",
      "Epoch 50/50\n",
      "21/21 [==============================] - 0s 6ms/step - loss: 0.6393 - accuracy: 0.8416 - val_loss: 1.0064 - val_accuracy: 0.7101\n"
     ]
    }
   ],
   "source": [
    "model.compile(\n",
    "    optimizer=tf.keras.optimizers.Adam(),\n",
    "    loss=tf.keras.losses.CategoricalCrossentropy(),\n",
    "    metrics=['accuracy']\n",
    ")\n",
    "\n",
    "history = model.fit(\n",
    "    X_train_scaled, y_train,\n",
    "    validation_data=(X_val_scaled, y_val),\n",
    "    epochs=50,\n",
    "    batch_size=32\n",
    ")\n"
   ]
  },
  {
   "cell_type": "markdown",
   "id": "6cb216d3-e709-490c-a7ba-2c552428dd24",
   "metadata": {},
   "source": [
    "### INFERENCE:  \n",
    "* While the validation accuracy is not exceptionally high, the consistency between training and validation metrics indicates that the model is less likely to overfit and is learning robust patterns.\n",
    "* Further improvements:  \n",
    "      * Learning rate tuning, use scheduler. \n",
    "      * regularization factor tuning"
   ]
  },
  {
   "attachments": {
    "879d380c-98ae-4cd4-bf1f-a46cd728341e.png": {
     "image/png": "[encoded data removed]"
    }
   },
   "cell_type": "markdown",
   "id": "c2d6c4f1-5f2f-435e-b973-1c959b2d5963",
   "metadata": {},
   "source": [
    "### MODEL OBJECTIVE: The goal of heart disease detection is to identify individuals at risk of heart disease. Missing a positive case (false negative) is far more severe than wrongly flagging a healthy individual as at risk (false positive).\n",
    "So focuing on Recall:  \n",
    "![Screenshot 2024-12-13 at 2.49.25 AM.png](attachment:879d380c-98ae-4cd4-bf1f-a46cd728341e.png)"
   ]
  },
  {
   "cell_type": "code",
   "execution_count": 46,
   "id": "d840fc6d-fc05-434b-8058-4e130cc63eaf",
   "metadata": {},
   "outputs": [],
   "source": [
    "model.compile(\n",
    "    optimizer='adam',\n",
    "    loss='categorical_crossentropy',\n",
    "    metrics=['accuracy', tf.keras.metrics.Precision(), tf.keras.metrics.Recall()]\n",
    ")\n"
   ]
  },
  {
   "cell_type": "code",
   "execution_count": 47,
   "id": "90426d0f-c86a-4c93-b7af-40d436bfb2cc",
   "metadata": {},
   "outputs": [
    {
     "name": "stdout",
     "output_type": "stream",
     "text": [
      "Epoch 1/50\n",
      "21/21 [==============================] - 1s 27ms/step - loss: 0.6490 - accuracy: 0.8401 - precision: 0.8754 - recall: 0.7857 - val_loss: 1.0302 - val_accuracy: 0.7029 - val_precision: 0.7419 - val_recall: 0.6667\n",
      "Epoch 2/50\n",
      "21/21 [==============================] - 0s 5ms/step - loss: 0.6336 - accuracy: 0.8401 - precision: 0.8694 - recall: 0.7857 - val_loss: 0.9982 - val_accuracy: 0.7101 - val_precision: 0.7364 - val_recall: 0.6884\n",
      "Epoch 3/50\n",
      "21/21 [==============================] - 0s 4ms/step - loss: 0.6209 - accuracy: 0.8509 - precision: 0.8904 - recall: 0.7950 - val_loss: 1.0173 - val_accuracy: 0.7029 - val_precision: 0.7460 - val_recall: 0.6812\n",
      "Epoch 4/50\n",
      "21/21 [==============================] - 0s 5ms/step - loss: 0.6188 - accuracy: 0.8447 - precision: 0.8778 - recall: 0.7919 - val_loss: 1.0007 - val_accuracy: 0.7029 - val_precision: 0.7323 - val_recall: 0.6739\n",
      "Epoch 5/50\n",
      "21/21 [==============================] - 0s 4ms/step - loss: 0.6177 - accuracy: 0.8478 - precision: 0.8808 - recall: 0.7919 - val_loss: 1.0164 - val_accuracy: 0.6957 - val_precision: 0.7460 - val_recall: 0.6812\n",
      "Epoch 6/50\n",
      "21/21 [==============================] - 0s 5ms/step - loss: 0.6138 - accuracy: 0.8478 - precision: 0.8797 - recall: 0.7950 - val_loss: 1.0207 - val_accuracy: 0.6884 - val_precision: 0.7143 - val_recall: 0.6522\n",
      "Epoch 7/50\n",
      "21/21 [==============================] - 0s 4ms/step - loss: 0.6084 - accuracy: 0.8556 - precision: 0.8868 - recall: 0.8028 - val_loss: 1.0190 - val_accuracy: 0.6884 - val_precision: 0.7287 - val_recall: 0.6812\n",
      "Epoch 8/50\n",
      "21/21 [==============================] - 0s 6ms/step - loss: 0.6047 - accuracy: 0.8540 - precision: 0.8887 - recall: 0.7935 - val_loss: 1.0147 - val_accuracy: 0.6957 - val_precision: 0.7188 - val_recall: 0.6667\n",
      "Epoch 9/50\n",
      "21/21 [==============================] - 0s 6ms/step - loss: 0.6026 - accuracy: 0.8478 - precision: 0.8812 - recall: 0.7950 - val_loss: 1.0103 - val_accuracy: 0.6884 - val_precision: 0.7222 - val_recall: 0.6594\n",
      "Epoch 10/50\n",
      "21/21 [==============================] - 0s 7ms/step - loss: 0.6137 - accuracy: 0.8494 - precision: 0.8908 - recall: 0.7981 - val_loss: 1.0437 - val_accuracy: 0.7174 - val_precision: 0.7344 - val_recall: 0.6812\n",
      "Epoch 11/50\n",
      "21/21 [==============================] - 0s 7ms/step - loss: 0.6078 - accuracy: 0.8416 - precision: 0.8836 - recall: 0.8012 - val_loss: 1.0333 - val_accuracy: 0.6812 - val_precision: 0.7165 - val_recall: 0.6594\n",
      "Epoch 12/50\n",
      "21/21 [==============================] - 0s 4ms/step - loss: 0.5946 - accuracy: 0.8540 - precision: 0.8912 - recall: 0.8137 - val_loss: 1.0235 - val_accuracy: 0.7101 - val_precision: 0.7460 - val_recall: 0.6812\n",
      "Epoch 13/50\n",
      "21/21 [==============================] - 0s 6ms/step - loss: 0.6038 - accuracy: 0.8432 - precision: 0.8773 - recall: 0.7997 - val_loss: 1.0247 - val_accuracy: 0.7029 - val_precision: 0.7266 - val_recall: 0.6739\n",
      "Epoch 14/50\n",
      "21/21 [==============================] - 0s 5ms/step - loss: 0.5921 - accuracy: 0.8540 - precision: 0.8842 - recall: 0.8059 - val_loss: 1.0331 - val_accuracy: 0.6957 - val_precision: 0.7154 - val_recall: 0.6739\n",
      "Epoch 15/50\n",
      "21/21 [==============================] - 0s 4ms/step - loss: 0.5863 - accuracy: 0.8602 - precision: 0.8961 - recall: 0.8168 - val_loss: 1.0334 - val_accuracy: 0.7101 - val_precision: 0.7364 - val_recall: 0.6884\n",
      "Epoch 16/50\n",
      "21/21 [==============================] - 0s 4ms/step - loss: 0.5856 - accuracy: 0.8618 - precision: 0.8913 - recall: 0.8152 - val_loss: 1.0259 - val_accuracy: 0.6957 - val_precision: 0.7109 - val_recall: 0.6594\n",
      "Epoch 17/50\n",
      "21/21 [==============================] - 0s 6ms/step - loss: 0.5940 - accuracy: 0.8478 - precision: 0.8788 - recall: 0.7997 - val_loss: 1.0286 - val_accuracy: 0.6884 - val_precision: 0.7165 - val_recall: 0.6594\n",
      "Epoch 18/50\n",
      "21/21 [==============================] - 0s 5ms/step - loss: 0.5749 - accuracy: 0.8587 - precision: 0.8927 - recall: 0.8137 - val_loss: 1.0480 - val_accuracy: 0.7029 - val_precision: 0.7402 - val_recall: 0.6812\n",
      "Epoch 19/50\n",
      "21/21 [==============================] - 0s 6ms/step - loss: 0.5788 - accuracy: 0.8634 - precision: 0.8988 - recall: 0.8137 - val_loss: 1.0469 - val_accuracy: 0.6957 - val_precision: 0.7266 - val_recall: 0.6739\n",
      "Epoch 20/50\n",
      "21/21 [==============================] - 0s 5ms/step - loss: 0.5757 - accuracy: 0.8742 - precision: 0.9017 - recall: 0.8261 - val_loss: 1.0140 - val_accuracy: 0.7029 - val_precision: 0.7209 - val_recall: 0.6739\n",
      "Epoch 21/50\n",
      "21/21 [==============================] - 0s 4ms/step - loss: 0.5680 - accuracy: 0.8618 - precision: 0.8918 - recall: 0.8323 - val_loss: 1.0433 - val_accuracy: 0.7029 - val_precision: 0.7231 - val_recall: 0.6812\n",
      "Epoch 22/50\n",
      "21/21 [==============================] - 0s 4ms/step - loss: 0.5654 - accuracy: 0.8696 - precision: 0.8970 - recall: 0.8245 - val_loss: 1.0495 - val_accuracy: 0.7174 - val_precision: 0.7442 - val_recall: 0.6957\n",
      "Epoch 23/50\n",
      "21/21 [==============================] - 0s 5ms/step - loss: 0.5678 - accuracy: 0.8696 - precision: 0.8906 - recall: 0.8214 - val_loss: 1.0454 - val_accuracy: 0.6957 - val_precision: 0.7302 - val_recall: 0.6667\n",
      "Epoch 24/50\n",
      "21/21 [==============================] - 0s 6ms/step - loss: 0.5630 - accuracy: 0.8649 - precision: 0.8936 - recall: 0.8214 - val_loss: 1.0516 - val_accuracy: 0.7246 - val_precision: 0.7480 - val_recall: 0.6884\n",
      "Epoch 25/50\n",
      "21/21 [==============================] - 0s 4ms/step - loss: 0.5584 - accuracy: 0.8571 - precision: 0.8898 - recall: 0.8152 - val_loss: 1.0458 - val_accuracy: 0.6812 - val_precision: 0.7132 - val_recall: 0.6667\n",
      "Epoch 26/50\n",
      "21/21 [==============================] - 0s 4ms/step - loss: 0.5683 - accuracy: 0.8680 - precision: 0.8904 - recall: 0.8199 - val_loss: 1.0422 - val_accuracy: 0.6957 - val_precision: 0.7344 - val_recall: 0.6812\n",
      "Epoch 27/50\n",
      "21/21 [==============================] - 0s 4ms/step - loss: 0.5700 - accuracy: 0.8696 - precision: 0.8919 - recall: 0.8199 - val_loss: 1.0422 - val_accuracy: 0.7029 - val_precision: 0.7344 - val_recall: 0.6812\n",
      "Epoch 28/50\n",
      "21/21 [==============================] - 0s 4ms/step - loss: 0.5592 - accuracy: 0.8804 - precision: 0.9036 - recall: 0.8292 - val_loss: 1.0400 - val_accuracy: 0.7101 - val_precision: 0.7308 - val_recall: 0.6884\n",
      "Epoch 29/50\n",
      "21/21 [==============================] - 0s 4ms/step - loss: 0.5590 - accuracy: 0.8649 - precision: 0.8859 - recall: 0.8075 - val_loss: 1.0537 - val_accuracy: 0.7029 - val_precision: 0.7308 - val_recall: 0.6884\n",
      "Epoch 30/50\n",
      "21/21 [==============================] - 0s 4ms/step - loss: 0.5496 - accuracy: 0.8711 - precision: 0.9037 - recall: 0.8307 - val_loss: 1.0750 - val_accuracy: 0.7029 - val_precision: 0.7328 - val_recall: 0.6957\n",
      "Epoch 31/50\n",
      "21/21 [==============================] - 0s 4ms/step - loss: 0.5547 - accuracy: 0.8634 - precision: 0.8983 - recall: 0.8230 - val_loss: 1.0695 - val_accuracy: 0.6739 - val_precision: 0.7023 - val_recall: 0.6667\n",
      "Epoch 32/50\n",
      "21/21 [==============================] - 0s 5ms/step - loss: 0.5412 - accuracy: 0.8665 - precision: 0.8980 - recall: 0.8339 - val_loss: 1.0635 - val_accuracy: 0.6812 - val_precision: 0.7087 - val_recall: 0.6522\n",
      "Epoch 33/50\n",
      "21/21 [==============================] - 0s 4ms/step - loss: 0.5459 - accuracy: 0.8789 - precision: 0.8995 - recall: 0.8339 - val_loss: 1.0523 - val_accuracy: 0.7029 - val_precision: 0.7287 - val_recall: 0.6812\n",
      "Epoch 34/50\n",
      "21/21 [==============================] - 0s 5ms/step - loss: 0.5468 - accuracy: 0.8773 - precision: 0.9020 - recall: 0.8292 - val_loss: 1.0731 - val_accuracy: 0.6957 - val_precision: 0.7077 - val_recall: 0.6667\n",
      "Epoch 35/50\n",
      "21/21 [==============================] - 0s 3ms/step - loss: 0.5327 - accuracy: 0.8773 - precision: 0.9060 - recall: 0.8385 - val_loss: 1.0620 - val_accuracy: 0.6884 - val_precision: 0.7266 - val_recall: 0.6739\n",
      "Epoch 36/50\n",
      "21/21 [==============================] - 0s 4ms/step - loss: 0.5289 - accuracy: 0.8835 - precision: 0.9171 - recall: 0.8416 - val_loss: 1.0701 - val_accuracy: 0.7029 - val_precision: 0.7328 - val_recall: 0.6957\n",
      "Epoch 37/50\n",
      "21/21 [==============================] - 0s 4ms/step - loss: 0.5340 - accuracy: 0.8758 - precision: 0.8945 - recall: 0.8292 - val_loss: 1.1061 - val_accuracy: 0.7101 - val_precision: 0.7293 - val_recall: 0.7029\n",
      "Epoch 38/50\n",
      "21/21 [==============================] - 0s 4ms/step - loss: 0.5435 - accuracy: 0.8649 - precision: 0.8904 - recall: 0.8323 - val_loss: 1.0720 - val_accuracy: 0.6884 - val_precision: 0.7109 - val_recall: 0.6594\n",
      "Epoch 39/50\n",
      "21/21 [==============================] - 0s 4ms/step - loss: 0.5288 - accuracy: 0.8835 - precision: 0.9188 - recall: 0.8432 - val_loss: 1.0846 - val_accuracy: 0.6739 - val_precision: 0.7023 - val_recall: 0.6667\n",
      "Epoch 40/50\n",
      "21/21 [==============================] - 0s 4ms/step - loss: 0.5273 - accuracy: 0.8882 - precision: 0.9079 - recall: 0.8416 - val_loss: 1.0847 - val_accuracy: 0.6884 - val_precision: 0.7121 - val_recall: 0.6812\n",
      "Epoch 41/50\n",
      "21/21 [==============================] - 0s 4ms/step - loss: 0.5194 - accuracy: 0.8866 - precision: 0.9098 - recall: 0.8463 - val_loss: 1.0886 - val_accuracy: 0.7029 - val_precision: 0.7308 - val_recall: 0.6884\n",
      "Epoch 42/50\n",
      "21/21 [==============================] - 0s 5ms/step - loss: 0.5324 - accuracy: 0.8866 - precision: 0.9048 - recall: 0.8416 - val_loss: 1.1189 - val_accuracy: 0.7174 - val_precision: 0.7348 - val_recall: 0.7029\n",
      "Epoch 43/50\n",
      "21/21 [==============================] - 0s 4ms/step - loss: 0.5196 - accuracy: 0.8929 - precision: 0.9135 - recall: 0.8525 - val_loss: 1.1064 - val_accuracy: 0.7029 - val_precision: 0.7154 - val_recall: 0.6739\n",
      "Epoch 44/50\n",
      "21/21 [==============================] - 0s 5ms/step - loss: 0.5419 - accuracy: 0.8773 - precision: 0.8937 - recall: 0.8354 - val_loss: 1.1019 - val_accuracy: 0.6884 - val_precision: 0.7087 - val_recall: 0.6522\n",
      "Epoch 45/50\n",
      "21/21 [==============================] - 0s 4ms/step - loss: 0.5263 - accuracy: 0.8804 - precision: 0.9060 - recall: 0.8385 - val_loss: 1.1207 - val_accuracy: 0.6812 - val_precision: 0.7099 - val_recall: 0.6739\n",
      "Epoch 46/50\n",
      "21/21 [==============================] - 0s 4ms/step - loss: 0.5181 - accuracy: 0.8898 - precision: 0.9092 - recall: 0.8401 - val_loss: 1.0957 - val_accuracy: 0.6884 - val_precision: 0.7099 - val_recall: 0.6739\n",
      "Epoch 47/50\n",
      "21/21 [==============================] - 0s 4ms/step - loss: 0.5146 - accuracy: 0.8960 - precision: 0.9118 - recall: 0.8509 - val_loss: 1.1116 - val_accuracy: 0.6957 - val_precision: 0.7252 - val_recall: 0.6884\n",
      "Epoch 48/50\n",
      "21/21 [==============================] - 0s 4ms/step - loss: 0.5111 - accuracy: 0.8929 - precision: 0.9186 - recall: 0.8587 - val_loss: 1.0947 - val_accuracy: 0.6812 - val_precision: 0.7045 - val_recall: 0.6739\n",
      "Epoch 49/50\n",
      "21/21 [==============================] - 0s 3ms/step - loss: 0.5100 - accuracy: 0.8991 - precision: 0.9146 - recall: 0.8649 - val_loss: 1.1250 - val_accuracy: 0.6812 - val_precision: 0.7045 - val_recall: 0.6739\n",
      "Epoch 50/50\n",
      "21/21 [==============================] - 0s 4ms/step - loss: 0.5122 - accuracy: 0.8975 - precision: 0.9190 - recall: 0.8634 - val_loss: 1.1079 - val_accuracy: 0.6957 - val_precision: 0.7121 - val_recall: 0.6812\n"
     ]
    }
   ],
   "source": [
    "history = model.fit(\n",
    "    X_train_scaled, \n",
    "    y_train,         \n",
    "    validation_data=(X_val_scaled, y_val),  \n",
    "    epochs=50,       \n",
    "    batch_size=32,   \n",
    "    verbose=1        \n",
    ")"
   ]
  },
  {
   "cell_type": "code",
   "execution_count": 48,
   "id": "a349b278-8a5d-4fc1-80b7-9988f3f971b9",
   "metadata": {},
   "outputs": [
    {
     "name": "stdout",
     "output_type": "stream",
     "text": [
      "5/5 [==============================] - 0s 5ms/step - loss: 1.0414 - accuracy: 0.6594 - precision: 0.6769 - recall: 0.6377\n",
      "Test Accuracy: 0.66\n",
      "Test Precision: 0.68\n",
      "Test Recall: 0.64\n"
     ]
    }
   ],
   "source": [
    "test_loss, test_accuracy, test_precision, test_recall = model.evaluate(X_test_scaled, y_test)\n",
    "print(f\"Test Accuracy: {test_accuracy:.2f}\")\n",
    "print(f\"Test Precision: {test_precision:.2f}\")\n",
    "print(f\"Test Recall: {test_recall:.2f}\")"
   ]
  },
  {
   "cell_type": "markdown",
   "id": "fa42fd5d-a593-4c7d-ab9c-97776aae5097",
   "metadata": {},
   "source": [
    "### inference after recall"
   ]
  },
  {
   "cell_type": "markdown",
   "id": "4792d032-3760-406d-a45c-98fe58103653",
   "metadata": {},
   "source": [
    "* The model performance is moderate. recall (61%) is particularly critical for heart disease detection since missing a positive case (false negative) could have severe consequences.\n",
    "* The balance between precision and recall indicates that the model can be tuned further. We favor Recall.\n",
    "* still overfitting "
   ]
  },
  {
   "cell_type": "code",
   "execution_count": 50,
   "id": "df9e184e-f089-48ac-8fd4-7b035c89d17d",
   "metadata": {},
   "outputs": [],
   "source": [
    "from sklearn.metrics import precision_recall_curve\n",
    "import matplotlib.pyplot as plt"
   ]
  },
  {
   "cell_type": "code",
   "execution_count": 51,
   "id": "11072bb2-70a2-4ea1-99ac-de20a75e5df1",
   "metadata": {},
   "outputs": [
    {
     "data": {
      "image/png": "[encoded data removed]",
      "text/plain": [
       "<Figure size 800x600 with 1 Axes>"
      ]
     },
     "metadata": {},
     "output_type": "display_data"
    }
   ],
   "source": [
    "y_pred_probs = model.predict(X_test_scaled)\n",
    "precision = {}\n",
    "recall = {}\n",
    "\n",
    "for i in range(y_test.shape[1]):\n",
    "    precision[i], recall[i], _ = precision_recall_curve(y_test[:, i], y_pred_probs[:, i])\n",
    "\n",
    "plt.figure(figsize=(8, 6))\n",
    "for i in range(y_test.shape[1]):\n",
    "    plt.plot(recall[i], precision[i], label=f'Class {i}')\n",
    "plt.xlabel('Recall')\n",
    "plt.ylabel('Precision')\n",
    "plt.title('Precision-Recall Curve')\n",
    "plt.legend()\n",
    "plt.grid()\n",
    "plt.show()"
   ]
  },
  {
   "cell_type": "code",
   "execution_count": 53,
   "id": "f5c7219b-2a9e-4bbc-9226-12724d7ea814",
   "metadata": {},
   "outputs": [],
   "source": [
    "from sklearn.metrics import confusion_matrix, ConfusionMatrixDisplay\n",
    "import matplotlib.pyplot as plt\n",
    "import numpy as np"
   ]
  },
  {
   "cell_type": "code",
   "execution_count": 55,
   "id": "4ed2e9aa-7d4e-4b8f-9c5b-642c40ec6fdb",
   "metadata": {},
   "outputs": [
    {
     "data": {
      "image/png": "[encoded data removed]",
      "text/plain": [
       "<Figure size 640x480 with 2 Axes>"
      ]
     },
     "metadata": {},
     "output_type": "display_data"
    }
   ],
   "source": [
    "y_pred = np.argmax(model.predict(X_test_scaled), axis=1)  \n",
    "y_true = np.argmax(y_test, axis=1)  \n",
    "\n",
    "cm = confusion_matrix(y_true, y_pred)\n",
    "\n",
    "disp = ConfusionMatrixDisplay(confusion_matrix=cm, display_labels=[0, 1, 2, 3, 4])  \n",
    "disp.plot(cmap=plt.cm.Blues)\n",
    "\n",
    "plt.title(\"Confusion Matrix\")\n",
    "plt.show()"
   ]
  },
  {
   "cell_type": "code",
   "execution_count": null,
   "id": "f92ad020-6546-41b7-ba76-61c3ef2ac880",
   "metadata": {},
   "outputs": [],
   "source": []
  }
 ],
 "metadata": {
  "kernelspec": {
   "display_name": "Python (py37_env)",
   "language": "python",
   "name": "py37_env"
  },
  "language_info": {
   "codemirror_mode": {
    "name": "ipython",
    "version": 3
   },
   "file_extension": ".py",
   "mimetype": "text/x-python",
   "name": "python",
   "nbconvert_exporter": "python",
   "pygments_lexer": "ipython3",
   "version": "3.7.16"
  }
 },
 "nbformat": 4,
 "nbformat_minor": 5
}
